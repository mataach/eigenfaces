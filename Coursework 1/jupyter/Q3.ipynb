{
  "nbformat": 4,
  "nbformat_minor": 0,
  "metadata": {
    "colab": {
      "name": "PR_cw1_Q3.ipynb",
      "provenance": [],
      "collapsed_sections": [
        "QtYGbw-7Rimy",
        "BrSY02KNeLFT",
        "9-yL2w4Ae4l3",
        "2k6FaI3Ra4Tt"
      ]
    },
    "kernelspec": {
      "name": "python3",
      "display_name": "Python 3"
    }
  },
  "cells": [
    {
      "cell_type": "code",
      "metadata": {
        "id": "x1ZJ7-JkRCqR",
        "colab_type": "code",
        "colab": {}
      },
      "source": [
        "from time import time\n",
        "import matplotlib.pyplot as plt\n",
        "import scipy.io as sio\n",
        "import numpy as np\n",
        "\n",
        "from sklearn.model_selection import train_test_split\n",
        "from sklearn.preprocessing import normalize\n",
        "from sklearn.decomposition import PCA\n",
        "from sklearn.discriminant_analysis import LinearDiscriminantAnalysis as LDA"
      ],
      "execution_count": 0,
      "outputs": []
    },
    {
      "cell_type": "code",
      "metadata": {
        "id": "eMb9uifhRMgF",
        "colab_type": "code",
        "colab": {}
      },
      "source": [
        "from google.colab import drive\n",
        "drive.mount('/content/drive')\n",
        "data = \"/content/drive/My Drive/Colab Notebooks/face.mat\""
      ],
      "execution_count": 0,
      "outputs": []
    },
    {
      "cell_type": "code",
      "metadata": {
        "id": "HbZouQBgRN_J",
        "colab_type": "code",
        "colab": {}
      },
      "source": [
        "faces = sio.loadmat(data)\n",
        "X_train, X_test, y_train, y_test = [], [], [], []\n",
        "for i in range(52):\n",
        "    face_i = faces['X'][:, 10*i:10*(i+1)]\n",
        "    label_i = faces['l'][:, 10*i:10*(i+1)]\n",
        "    X_train_temp, X_test_temp, y_train_temp, y_test_temp = train_test_split(\n",
        "        face_i.T, label_i.T, test_size=0.2)\n",
        "    X_train.append(X_train_temp)\n",
        "    X_test.append(X_test_temp)\n",
        "    y_train.append(y_train_temp)\n",
        "    y_test.append(y_test_temp)    \n",
        "\n",
        "X_train = np.concatenate(X_train)\n",
        "X_test = np.concatenate(X_test)\n",
        "y_train = np.concatenate(y_train)\n",
        "y_test = np.concatenate(y_test)\n",
        "\n",
        "X_train = np.array(X_train)\n",
        "X_test = np.array(X_test)\n",
        "y_train = np.array(y_train)\n",
        "y_test = np.array(y_test)"
      ],
      "execution_count": 0,
      "outputs": []
    },
    {
      "cell_type": "code",
      "metadata": {
        "id": "R8I0_rFtRS5I",
        "colab_type": "code",
        "outputId": "2f2ce6db-619f-4089-8351-3008d808aab3",
        "colab": {
          "base_uri": "https://localhost:8080/",
          "height": 284
        }
      },
      "source": [
        "x = np.reshape(X_train[8], (46, 56))\n",
        "plt.imshow(x.T, cmap='gist_gray')"
      ],
      "execution_count": 0,
      "outputs": [
        {
          "output_type": "execute_result",
          "data": {
            "text/plain": [
              "<matplotlib.image.AxesImage at 0x7fb7f9c32390>"
            ]
          },
          "metadata": {
            "tags": []
          },
          "execution_count": 8
        },
        {
          "output_type": "display_data",
          "data": {
            "image/png": "[encoded data removed]",
            "text/plain": [
              "<Figure size 432x288 with 1 Axes>"
            ]
          },
          "metadata": {
            "tags": []
          }
        }
      ]
    },
    {
      "cell_type": "code",
      "metadata": {
        "id": "CNjSsRrxnHwr",
        "colab_type": "code",
        "colab": {}
      },
      "source": [
        "def multi_pics(matrix):\n",
        "  h, w = 5, 5\n",
        "  nrows, ncols = 5, 8\n",
        "  figsize = [20, 25]\n",
        "\n",
        "  fig, ax = plt.subplots(nrows=nrows, ncols=ncols, figsize=figsize)\n",
        "\n",
        "  for i, axi in enumerate(ax.flat):\n",
        "      x = np.reshape(matrix[i], (46, 56))\n",
        "      axi.imshow(x.T, cmap='gist_gray')\n",
        "      rowid = i\n",
        "      colid = i % ncols\n",
        "  plt.tight_layout(True)\n",
        "  plt.show()"
      ],
      "execution_count": 0,
      "outputs": []
    },
    {
      "cell_type": "markdown",
      "metadata": {
        "id": "QtYGbw-7Rimy",
        "colab_type": "text"
      },
      "source": [
        "# PCA-LDA "
      ]
    },
    {
      "cell_type": "markdown",
      "metadata": {
        "id": "wPu29cE7Row4",
        "colab_type": "text"
      },
      "source": [
        "#### 1. Compute the d-dimensional mean vectors"
      ]
    },
    {
      "cell_type": "code",
      "metadata": {
        "id": "CVNuxmf1RYaK",
        "colab_type": "code",
        "colab": {}
      },
      "source": [
        "np.set_printoptions(precision=5)\n",
        "\n",
        "mean_vectors = []\n",
        "for i in range(0, 52):\n",
        "  mean_vectors.append(np.mean(X_train[8*i:8*(i+1)], axis=0))\n",
        "mean_vectors = np.array(mean_vectors)"
      ],
      "execution_count": 0,
      "outputs": []
    },
    {
      "cell_type": "markdown",
      "metadata": {
        "id": "6j965YcwVnUZ",
        "colab_type": "text"
      },
      "source": [
        "#### 2. Compute the Scatter Matrices"
      ]
    },
    {
      "cell_type": "code",
      "metadata": {
        "id": "sHMaR2GTGi6Q",
        "colab_type": "code",
        "colab": {}
      },
      "source": [
        "def normalise(matrix):\n",
        "  mm = []\n",
        "  for m in matrix:\n",
        "    mm.append(np.real(m))\n",
        "  mat = np.array(mm)\n",
        "\n",
        "  return normalize(mat, axis=0, norm='l1')"
      ],
      "execution_count": 0,
      "outputs": []
    },
    {
      "cell_type": "code",
      "metadata": {
        "id": "6NCZ-MmJVOcd",
        "colab_type": "code",
        "colab": {}
      },
      "source": [
        "# within-class scatter\n",
        "\n",
        "D = X_train.shape[1]  # 2576\n",
        "S_W = np.zeros((D, D))\n",
        "for cl, mv in zip(range(0, 52), mean_vectors):\n",
        "  class_si_mat = np.zeros((D, D))\n",
        "  for img in range(8*cl, 8*(cl+1)):\n",
        "    row, mv = X_train[img].reshape(D,1), mv.reshape(D,1)\n",
        "    class_si_mat += (row-mv).dot((row-mv).T)\n",
        "  S_W += class_si_mat "
      ],
      "execution_count": 0,
      "outputs": []
    },
    {
      "cell_type": "code",
      "metadata": {
        "id": "mCdRNkAJWSQ3",
        "colab_type": "code",
        "colab": {}
      },
      "source": [
        "# between-class scatter\n",
        "\n",
        "overall_mean = np.mean(X_train, axis=0)\n",
        "\n",
        "S_B = np.zeros((D, D))\n",
        "for mv in mean_vectors:\n",
        "  n = 8   # size of the respective class\n",
        "  overall_mean, mv = overall_mean.reshape(D,1), mv.reshape(D,1)   # make column vector\n",
        "  S_B += n * (mv - overall_mean).dot((mv - overall_mean).T)"
      ],
      "execution_count": 0,
      "outputs": []
    },
    {
      "cell_type": "markdown",
      "metadata": {
        "id": "Tq6M3VfNXgtT",
        "colab_type": "text"
      },
      "source": [
        "#### 3. Compute W_PCA"
      ]
    },
    {
      "cell_type": "code",
      "metadata": {
        "id": "3BhfEu3dXgR3",
        "colab_type": "code",
        "colab": {}
      },
      "source": [
        "### VIP: COLUMNS ARE THE EIGENVECTORS!!\n",
        "S_T = S_W + S_B\n",
        "evals_PCA, W_PCA = np.linalg.eig(S_T)"
      ],
      "execution_count": 0,
      "outputs": []
    },
    {
      "cell_type": "code",
      "metadata": {
        "id": "wSn_oyxyNvPk",
        "colab_type": "code",
        "outputId": "e3e38a53-cec2-404d-8b2d-73707ec9ec95",
        "colab": {
          "base_uri": "https://localhost:8080/",
          "height": 34
        }
      },
      "source": [
        "# Take only the first M evecs\n",
        "M_PCA = 300\n",
        "Wm_PCA = W_PCA.T[:M_PCA]\n",
        "Wm_PCA = Wm_PCA.T\n",
        "Wm_PCA.shape"
      ],
      "execution_count": 0,
      "outputs": [
        {
          "output_type": "execute_result",
          "data": {
            "text/plain": [
              "(2576, 300)"
            ]
          },
          "metadata": {
            "tags": []
          },
          "execution_count": 904
        }
      ]
    },
    {
      "cell_type": "markdown",
      "metadata": {
        "id": "YloTm6F6ZRz-",
        "colab_type": "text"
      },
      "source": [
        "#### 4. Compute the PCA scatter matrices"
      ]
    },
    {
      "cell_type": "code",
      "metadata": {
        "id": "G9AIAu44YvUl",
        "colab_type": "code",
        "colab": {}
      },
      "source": [
        "S_B_PCA = Wm_PCA.T.dot(S_B).dot(Wm_PCA)\n",
        "S_W_PCA = Wm_PCA.T.dot(S_W).dot(Wm_PCA)"
      ],
      "execution_count": 0,
      "outputs": []
    },
    {
      "cell_type": "code",
      "metadata": {
        "id": "tL08_YigZ7do",
        "colab_type": "code",
        "outputId": "a556e2ca-9823-4716-a7ea-c9246e4c4901",
        "colab": {
          "base_uri": "https://localhost:8080/",
          "height": 284
        }
      },
      "source": [
        "r = normalise(Wm_PCA)\n",
        "x = np.reshape(r.T[0], (46, 56))\n",
        "plt.imshow(x.T, cmap='gist_gray')"
      ],
      "execution_count": 0,
      "outputs": [
        {
          "output_type": "execute_result",
          "data": {
            "text/plain": [
              "<matplotlib.image.AxesImage at 0x7f2ab648ef98>"
            ]
          },
          "metadata": {
            "tags": []
          },
          "execution_count": 906
        },
        {
          "output_type": "display_data",
          "data": {
            "image/png": "[encoded data removed]",
            "text/plain": [
              "<Figure size 432x288 with 1 Axes>"
            ]
          },
          "metadata": {
            "tags": []
          }
        }
      ]
    },
    {
      "cell_type": "markdown",
      "metadata": {
        "id": "BrSY02KNeLFT",
        "colab_type": "text"
      },
      "source": [
        "#### 5. Compute W_LDA"
      ]
    },
    {
      "cell_type": "code",
      "metadata": {
        "id": "BUzO4ucKcvTZ",
        "colab_type": "code",
        "outputId": "9181f24f-caa5-4de6-feba-10a69c0999bb",
        "colab": {
          "base_uri": "https://localhost:8080/",
          "height": 34
        }
      },
      "source": [
        "evals_LDA, W_LDA = np.linalg.eig(np.linalg.inv(S_W_PCA).dot(S_B_PCA))\n",
        "W_LDA.shape"
      ],
      "execution_count": 0,
      "outputs": [
        {
          "output_type": "execute_result",
          "data": {
            "text/plain": [
              "(300, 300)"
            ]
          },
          "metadata": {
            "tags": []
          },
          "execution_count": 907
        }
      ]
    },
    {
      "cell_type": "markdown",
      "metadata": {
        "id": "9-yL2w4Ae4l3",
        "colab_type": "text"
      },
      "source": [
        "#### 6. Compute optimal weights"
      ]
    },
    {
      "cell_type": "markdown",
      "metadata": {
        "id": "RCx5rKc9qgjA",
        "colab_type": "text"
      },
      "source": [
        "##### Selecting linear discriminants for the new feature subspace"
      ]
    },
    {
      "cell_type": "code",
      "metadata": {
        "id": "tP0qV4fsqfsa",
        "colab_type": "code",
        "colab": {}
      },
      "source": [
        "# Make a list of (eigenvalue, eigenvector) tuples\n",
        "LDA_eig_pairs = [(np.abs(evals_LDA[i]), W_LDA[:,i]) for i in range(len(evals_LDA))]\n",
        "\n",
        "# Sort the (eigenvalue, eigenvector) tuples from high to low\n",
        "LDA_eig_pairs = sorted(LDA_eig_pairs, key=lambda k: k[0], reverse=True)"
      ],
      "execution_count": 0,
      "outputs": []
    },
    {
      "cell_type": "code",
      "metadata": {
        "id": "dRqSjWF3yJ9Z",
        "colab_type": "code",
        "outputId": "b92ba63e-2134-4150-ca73-a51ae8f4c795",
        "colab": {
          "base_uri": "https://localhost:8080/",
          "height": 329
        }
      },
      "source": [
        "from pylab import *\n",
        "from tikzplotlib import save as tikz_save\n",
        "\n",
        "print('Variance explained:\\n')\n",
        "eigv_sum = sum(abs(evals_LDA))\n",
        "\n",
        "x, y = [], []\n",
        "for i,j in enumerate(LDA_eig_pairs):\n",
        "    # print('eigenvalue {0:}: {1:.2%}'.format(i+1, (j[0]/eigv_sum).real))\n",
        "    x.append(i+1)\n",
        "    y.append(j[0]/eigv_sum)\n",
        "\n",
        "\n",
        "\n",
        "plt.plot(x, y, 'ro')\n",
        "plt.title('Mpca = {}'.format(M_PCA))\n",
        "plt.xlabel('eigenvalue position')\n",
        "plt.ylabel('eigenvalue relative magnitude (%)')\n",
        "plt.show()"
      ],
      "execution_count": 0,
      "outputs": [
        {
          "output_type": "stream",
          "text": [
            "Variance explained:\n",
            "\n"
          ],
          "name": "stdout"
        },
        {
          "output_type": "display_data",
          "data": {
            "image/png": "[encoded data removed]",
            "text/plain": [
              "<Figure size 432x288 with 1 Axes>"
            ]
          },
          "metadata": {
            "tags": []
          }
        }
      ]
    },
    {
      "cell_type": "markdown",
      "metadata": {
        "id": "Tb2aLMXMtu12",
        "colab_type": "text"
      },
      "source": [
        "After sorting the eigenpairs by decreasing eigenvalues, it is now time to construct our k×d-dimensional eigenvector matrix W_LDA (here 416×51: based on the 51 most informative eigenpairs) and thereby reducing the initial 416-dimensional feature space into a 51-dimensional feature subspace."
      ]
    },
    {
      "cell_type": "code",
      "metadata": {
        "id": "iLygjIMzexCl",
        "colab_type": "code",
        "outputId": "267594e5-534a-410a-9280-a415d2d124c5",
        "colab": {
          "base_uri": "https://localhost:8080/",
          "height": 34
        }
      },
      "source": [
        "M_LDA = 300\n",
        "Wm_LDA = W_LDA[:M_LDA]\n",
        "\n",
        "W_OPT_T = Wm_LDA.dot(Wm_PCA.T)\n",
        "W_OPT = W_OPT_T.T\n",
        "W_OPT.shape"
      ],
      "execution_count": 0,
      "outputs": [
        {
          "output_type": "execute_result",
          "data": {
            "text/plain": [
              "(2576, 300)"
            ]
          },
          "metadata": {
            "tags": []
          },
          "execution_count": 910
        }
      ]
    },
    {
      "cell_type": "code",
      "metadata": {
        "id": "13z3hE1RfRjl",
        "colab_type": "code",
        "outputId": "f4103e7e-12f1-43c9-bf32-8045f10898f6",
        "colab": {
          "base_uri": "https://localhost:8080/",
          "height": 284
        }
      },
      "source": [
        "# FISHERFACE\n",
        "x = np.reshape(normalise(W_OPT).T[0], (46, 56))\n",
        "plt.imshow(x.T, cmap='gist_gray')"
      ],
      "execution_count": 0,
      "outputs": [
        {
          "output_type": "execute_result",
          "data": {
            "text/plain": [
              "<matplotlib.image.AxesImage at 0x7f2ab5ebf898>"
            ]
          },
          "metadata": {
            "tags": []
          },
          "execution_count": 911
        },
        {
          "output_type": "display_data",
          "data": {
            "image/png": "[encoded data removed]",
            "text/plain": [
              "<Figure size 432x288 with 1 Axes>"
            ]
          },
          "metadata": {
            "tags": []
          }
        }
      ]
    },
    {
      "cell_type": "markdown",
      "metadata": {
        "id": "j5xBMTtqlsoX",
        "colab_type": "text"
      },
      "source": [
        "#### 7. Perform NN classification"
      ]
    },
    {
      "cell_type": "code",
      "metadata": {
        "id": "DdEDfh4G4IHH",
        "colab_type": "code",
        "outputId": "f5c2a378-873b-49d8-c3ee-e96eb2503360",
        "colab": {
          "base_uri": "https://localhost:8080/",
          "height": 34
        }
      },
      "source": [
        "W_OPT_N = normalise(W_OPT)\n",
        "X_LDA = X_train.dot(W_OPT_N)\n",
        "X_LDA.shape"
      ],
      "execution_count": 0,
      "outputs": [
        {
          "output_type": "execute_result",
          "data": {
            "text/plain": [
              "(416, 300)"
            ]
          },
          "metadata": {
            "tags": []
          },
          "execution_count": 912
        }
      ]
    },
    {
      "cell_type": "code",
      "metadata": {
        "id": "53egn19MJ6Td",
        "colab_type": "code",
        "colab": {}
      },
      "source": [
        "# Calculate predicted labels\n",
        "Test_LDA = X_test.dot(W_OPT_N)\n",
        "\n",
        "y_pred = []\n",
        "for test in Test_LDA:\n",
        "  min_e = float('inf')\n",
        "  label = 0\n",
        "  for i in range(X_LDA.shape[0]):\n",
        "    error = np.linalg.norm(test-X_LDA[i])\n",
        "    if error < min_e:\n",
        "      min_e = error\n",
        "      label = y_train[i][0]\n",
        "  y_pred.append(label)"
      ],
      "execution_count": 0,
      "outputs": []
    },
    {
      "cell_type": "code",
      "metadata": {
        "id": "QlUCruYaKS3G",
        "colab_type": "code",
        "colab": {}
      },
      "source": [
        "from sklearn.metrics import confusion_matrix\n",
        "\n",
        "def cm(y_pred, y_actu=list(y_test.flatten())):\n",
        "  cm = confusion_matrix(y_actu, y_pred)\n",
        "\n",
        "  plt.matshow(cm, cmap = 'magma')\n",
        "  plt.colorbar()\n",
        "  plt.ylabel('Actual')\n",
        "  plt.xlabel('Predicted')\n",
        "  plt.show()"
      ],
      "execution_count": 0,
      "outputs": []
    },
    {
      "cell_type": "code",
      "metadata": {
        "id": "1qvfvB-35Gkv",
        "colab_type": "code",
        "colab": {}
      },
      "source": [
        "# print confusion matrix\n",
        "cm(y_pred)"
      ],
      "execution_count": 0,
      "outputs": []
    },
    {
      "cell_type": "code",
      "metadata": {
        "id": "awE3bKQnojd8",
        "colab_type": "code",
        "colab": {}
      },
      "source": [
        "def acc(y_pred, y_actu=list(y_test.flatten())):\n",
        "  correct_labels = 0\n",
        "  for actu, pred in zip(y_actu, y_pred):\n",
        "    correct_labels = correct_labels + 1 if actu == pred else correct_labels\n",
        "\n",
        "  return correct_labels / len(y_actu) * 100"
      ],
      "execution_count": 0,
      "outputs": []
    },
    {
      "cell_type": "code",
      "metadata": {
        "id": "jSE5thF5MhMn",
        "colab_type": "code",
        "outputId": "c9dfdb22-c2de-4c65-f48d-7c150db0e555",
        "colab": {
          "base_uri": "https://localhost:8080/",
          "height": 34
        }
      },
      "source": [
        "print(acc(y_pred))"
      ],
      "execution_count": 0,
      "outputs": [
        {
          "output_type": "stream",
          "text": [
            "58.65384615384615\n"
          ],
          "name": "stdout"
        }
      ]
    },
    {
      "cell_type": "code",
      "metadata": {
        "id": "P_RqEE3b0RwA",
        "colab_type": "code",
        "outputId": "b5d6bca6-d518-45dd-de6c-845f09f8b76c",
        "colab": {
          "base_uri": "https://localhost:8080/",
          "height": 248
        }
      },
      "source": [
        "from mpl_toolkits import mplot3d\n",
        "\n",
        "y = y_train.flatten()\n",
        "\n",
        "def nn():\n",
        "  fig = plt.figure()\n",
        "  ax = fig.add_subplot( projection='3d')\n",
        "  for label,marker,color in zip(\n",
        "      range(1,6),('^', 's', 'o', '<', '>'),('magenta', 'black', 'cyan', 'red', 'green')):\n",
        "      ax.scatter3D(xs=X_LDA.T[:][1].real[y == label],\n",
        "                   ys=X_LDA.T[:][2].real[y == label],\n",
        "                   zs=X_LDA.T[:][3].real[y == label],\n",
        "                   marker=marker,\n",
        "                   color=color,\n",
        "                   )\n",
        "  ax.set_xlabel('LD1')\n",
        "  ax.set_ylabel('LD2')\n",
        "  ax.set_zlabel('LD3')\n",
        "\n",
        "  plt.show()\n",
        "\n",
        "nn()"
      ],
      "execution_count": 0,
      "outputs": [
        {
          "output_type": "display_data",
          "data": {
            "image/png": "[encoded data removed]",
            "text/plain": [
              "<Figure size 432x288 with 1 Axes>"
            ]
          },
          "metadata": {
            "tags": []
          }
        }
      ]
    },
    {
      "cell_type": "markdown",
      "metadata": {
        "id": "2k6FaI3Ra4Tt",
        "colab_type": "text"
      },
      "source": [
        "# PCA-LDA Ensemble"
      ]
    },
    {
      "cell_type": "code",
      "metadata": {
        "id": "6e3HKJ6wS3Ka",
        "colab_type": "code",
        "colab": {}
      },
      "source": [
        "import random \n",
        "from collections import Counter\n",
        "\n",
        "def PCA_LDA_E(total_models):\n",
        "\n",
        "  X_models_LDA, Test_models_LDA = [], []\n",
        "\n",
        "  for i in range(total_models):\n",
        "    # define de random parameters\n",
        "    M_PCA = random.randint(200, 370)\n",
        "    M_LDA = random.randint(200, 370)\n",
        "    \n",
        "    # calculate the PCA weights\n",
        "    Wm_PCA = W_PCA.T[:M_PCA]\n",
        "    Wm_PCA = Wm_PCA.T\n",
        "\n",
        "    # calculate the PCA scatter matrices\n",
        "    S_B_PCA = Wm_PCA.T.dot(S_B).dot(Wm_PCA)\n",
        "    S_W_PCA = Wm_PCA.T.dot(S_W).dot(Wm_PCA)\n",
        "\n",
        "    # calculate the LDA weights \n",
        "    evals_LDA, W_LDA = np.linalg.eig(np.linalg.inv(S_W_PCA).dot(S_B_PCA))\n",
        "    Wm_LDA = W_LDA[:M_LDA]\n",
        "\n",
        "    # calculate the optimal weights\n",
        "    W_OPT_T = Wm_LDA.dot(Wm_PCA.T)\n",
        "    W_OPT = W_OPT_T.T\n",
        "    W_OPT_N = normalise(W_OPT)\n",
        "\n",
        "    # add the projections of training and testing images\n",
        "    X_models_LDA.append(X_train.dot(W_OPT_N))\n",
        "    Test_models_LDA.append(X_test.dot(W_OPT_N))\n",
        "\n",
        "\n",
        "  # Calculate weighted label \n",
        "  total_predictions = []\n",
        "  for X_LDA, Test_LDA in zip(X_models_LDA, Test_models_LDA):\n",
        "    y_pred = []\n",
        "    for test in Test_LDA:\n",
        "      min_e = float('inf')\n",
        "      label = 0\n",
        "      for i in range(X_LDA.shape[0]):\n",
        "        error = np.linalg.norm(test-X_LDA[i])\n",
        "        if error < min_e:\n",
        "          min_e = error\n",
        "          label = y_train[i][0]\n",
        "      y_pred.append(label)\n",
        "    total_predictions.append(y_pred)\n",
        "\n",
        "  # find the most voted label\n",
        "  weighted_prediction = []\n",
        "  for label in np.array(total_predictions).T:\n",
        "    mode = Counter(label)\n",
        "    modes = sorted(label, key=lambda k: -mode[k])\n",
        "    weighted_prediction.append(modes[0])\n",
        "\n",
        "  return weighted_prediction, total_predictions"
      ],
      "execution_count": 0,
      "outputs": []
    },
    {
      "cell_type": "code",
      "metadata": {
        "id": "FC_2k8wp7Xw0",
        "colab_type": "code",
        "colab": {}
      },
      "source": [
        "start = time()\n",
        "y_mode, y_total = PCA_LDA_E(total_models=50)\n",
        "end = time()"
      ],
      "execution_count": 0,
      "outputs": []
    },
    {
      "cell_type": "code",
      "metadata": {
        "id": "NdgeRAMwDfgw",
        "colab_type": "code",
        "colab": {}
      },
      "source": [
        "model_acc = []\n",
        "for y_pred in y_total:\n",
        "  model_acc.append(acc(y_pred))\n",
        "model_acc_avg = np.average(model_acc)"
      ],
      "execution_count": 0,
      "outputs": []
    }
  ]
}