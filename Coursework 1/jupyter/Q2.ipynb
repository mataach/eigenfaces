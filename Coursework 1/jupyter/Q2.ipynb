{
  "nbformat": 4,
  "nbformat_minor": 0,
  "metadata": {
    "colab": {
      "name": "PR_cw1_Q2.ipynb",
      "provenance": [],
      "collapsed_sections": [
        "aM1MoiXmflLh",
        "E4fFJ-hBftCi",
        "E9nBEcYhabJg",
        "AT5OUuJ9WHKQ"
      ]
    },
    "kernelspec": {
      "name": "python3",
      "display_name": "Python 3"
    }
  },
  "cells": [
    {
      "cell_type": "code",
      "metadata": {
        "id": "3bBbi8iGVjqU",
        "colab_type": "code",
        "colab": {}
      },
      "source": [
        "from time import time\n",
        "import matplotlib.pyplot as plt\n",
        "import scipy.io as sio\n",
        "import numpy as np\n",
        "\n",
        "from sklearn.model_selection import train_test_split\n",
        "from sklearn.preprocessing import normalize"
      ],
      "execution_count": 0,
      "outputs": []
    },
    {
      "cell_type": "code",
      "metadata": {
        "id": "c1aeh8J_WUqG",
        "colab_type": "code",
        "colab": {}
      },
      "source": [
        "from google.colab import drive\n",
        "drive.mount('/content/drive')\n",
        "data = \"/content/drive/My Drive/Colab Notebooks/face.mat\""
      ],
      "execution_count": 0,
      "outputs": []
    },
    {
      "cell_type": "code",
      "metadata": {
        "id": "2hPVs1loWWXK",
        "colab_type": "code",
        "colab": {}
      },
      "source": [
        "faces = sio.loadmat(data)\n",
        "X_train, X_test, y_train, y_test = [], [], [], []\n",
        "for i in range(52):\n",
        "    face_i = faces['X'][:, 10*i:10*(i+1)]\n",
        "    label_i = faces['l'][:, 10*i:10*(i+1)]\n",
        "    X_train_temp, X_test_temp, y_train_temp, y_test_temp = train_test_split(\n",
        "        face_i.T, label_i.T, test_size=0.2)\n",
        "    X_train.append(X_train_temp)\n",
        "    X_test.append(X_test_temp)\n",
        "    y_train.append(y_train_temp)\n",
        "    y_test.append(y_test_temp)    "
      ],
      "execution_count": 0,
      "outputs": []
    },
    {
      "cell_type": "code",
      "metadata": {
        "id": "PydCOpVSm8x4",
        "colab_type": "code",
        "colab": {}
      },
      "source": [
        "# divide the training data equally into four subsets\n",
        "X_train_A, X_train_B, X_train_C, X_train_D = [], [], [], []\n",
        "for i in range(52):\n",
        "  X_train_A.append(X_train[i][:2])\n",
        "  X_train_B.append(X_train[i][2:4])\n",
        "  X_train_C.append(X_train[i][4:6])\n",
        "  X_train_D.append(X_train[i][6:8])"
      ],
      "execution_count": 0,
      "outputs": []
    },
    {
      "cell_type": "code",
      "metadata": {
        "id": "9664aazPnAp1",
        "colab_type": "code",
        "colab": {}
      },
      "source": [
        "X_train_A = np.concatenate(X_train_A)\n",
        "X_train_A = np.array(X_train_A)\n",
        "X_train_B = np.concatenate(X_train_B)\n",
        "X_train_B = np.array(X_train_B)\n",
        "X_train_C = np.concatenate(X_train_C)\n",
        "X_train_C = np.array(X_train_C)\n",
        "X_train_D = np.concatenate(X_train_D)\n",
        "X_train_D = np.array(X_train_D)\n",
        "\n",
        "X_test = np.concatenate(X_test)\n",
        "X_test = np.array(X_test)"
      ],
      "execution_count": 0,
      "outputs": []
    },
    {
      "cell_type": "code",
      "metadata": {
        "id": "PS2EmvF7AaGX",
        "colab_type": "code",
        "colab": {}
      },
      "source": [
        "y_train = np.concatenate(y_train)\n",
        "y_train = np.array(y_train)\n",
        "\n",
        "y_test = np.concatenate(y_test)\n",
        "y_test = np.array(y_test)"
      ],
      "execution_count": 0,
      "outputs": []
    },
    {
      "cell_type": "code",
      "metadata": {
        "id": "z1tfCTnNozI6",
        "colab_type": "code",
        "outputId": "9733b23e-aec9-480a-9e3b-78c55848decd",
        "colab": {
          "base_uri": "https://localhost:8080/",
          "height": 284
        }
      },
      "source": [
        "x = np.reshape(X_train_A[0], (46, 56))\n",
        "plt.imshow(x.T, cmap='gist_gray')"
      ],
      "execution_count": 0,
      "outputs": [
        {
          "output_type": "execute_result",
          "data": {
            "text/plain": [
              "<matplotlib.image.AxesImage at 0x7fe20f4acef0>"
            ]
          },
          "metadata": {
            "tags": []
          },
          "execution_count": 7
        },
        {
          "output_type": "display_data",
          "data": {
            "image/png": "[encoded data removed]",
            "text/plain": [
              "<Figure size 432x288 with 1 Axes>"
            ]
          },
          "metadata": {
            "tags": []
          }
        }
      ]
    },
    {
      "cell_type": "code",
      "metadata": {
        "id": "qheqFErcpRkW",
        "colab_type": "code",
        "colab": {}
      },
      "source": [
        "N, px = X_train_A.shape\n",
        "# average faces\n",
        "mean_A, mean_B, mean_C, mean_D = np.zeros(px), np.zeros(px), np.zeros(px), np.zeros(px)\n",
        "for faceA, faceB, faceC, faceD in zip(X_train_A, X_train_B, X_train_C, X_train_D):\n",
        "  mean_A += faceA\n",
        "  mean_B += faceB\n",
        "  mean_C += faceC\n",
        "  mean_D += faceD\n",
        "mean_A = 1/N*mean_A\n",
        "mean_B = 1/N*mean_B\n",
        "mean_C = 1/N*mean_C\n",
        "mean_D = 1/N*mean_D"
      ],
      "execution_count": 0,
      "outputs": []
    },
    {
      "cell_type": "markdown",
      "metadata": {
        "id": "gxPmJ-cHQggY",
        "colab_type": "text"
      },
      "source": [
        "# PCA with batch A"
      ]
    },
    {
      "cell_type": "code",
      "metadata": {
        "id": "0Sw26gE3Qfic",
        "colab_type": "code",
        "outputId": "c14df0bb-30dc-466f-c501-3e24174b02b1",
        "colab": {
          "base_uri": "https://localhost:8080/"
        }
      },
      "source": [
        "w_A = A.T.dot(evec_A.T)\n",
        "w_A.shape"
      ],
      "execution_count": 0,
      "outputs": [
        {
          "output_type": "stream",
          "text": [
            "Running time: 0.008170366287231445s\n"
          ],
          "name": "stdout"
        }
      ]
    },
    {
      "cell_type": "code",
      "metadata": {
        "id": "X_2wJwbpS_oo",
        "colab_type": "code",
        "outputId": "a8593c26-f02c-4234-c33a-60bda7abf845",
        "colab": {
          "base_uri": "https://localhost:8080/"
        }
      },
      "source": [
        "# reconstruction of all faces\n",
        "all_recon_faces = []\n",
        "for i in range(w_A.shape[0]):\n",
        "  recon_face = np.zeros(mean_A.shape)\n",
        "  for a, eface in zip(w_A[i], evec_A):\n",
        "    recon_face += a*eface\n",
        "  recon_face += mean_A_N\n",
        "  all_recon_faces.append(recon_face)"
      ],
      "execution_count": 0,
      "outputs": [
        {
          "output_type": "stream",
          "text": [
            "Running time: 0.07543277740478516s\n"
          ],
          "name": "stdout"
        }
      ]
    },
    {
      "cell_type": "code",
      "metadata": {
        "id": "LlsFL94NUjCx",
        "colab_type": "code",
        "outputId": "f6a51b08-b38c-4a40-8cee-552060abbb54",
        "colab": {
          "base_uri": "https://localhost:8080/"
        }
      },
      "source": [
        "x = np.reshape(all_recon_faces[0], (46, 56))\n",
        "plt.imshow(x.T, cmap='gist_gray')"
      ],
      "execution_count": 0,
      "outputs": [
        {
          "output_type": "execute_result",
          "data": {
            "text/plain": [
              "<matplotlib.image.AxesImage at 0x7f185f0585c0>"
            ]
          },
          "metadata": {
            "tags": []
          },
          "execution_count": 158
        },
        {
          "output_type": "display_data",
          "data": {
            "image/png": "[encoded data removed]",
            "text/plain": [
              "<Figure size 432x288 with 1 Axes>"
            ]
          },
          "metadata": {
            "tags": []
          }
        }
      ]
    },
    {
      "cell_type": "markdown",
      "metadata": {
        "id": "AT5OUuJ9WHKQ",
        "colab_type": "text"
      },
      "source": [
        "# Confusion Matrix of PCA of A"
      ]
    },
    {
      "cell_type": "code",
      "metadata": {
        "id": "upcYRm09Vqp1",
        "colab_type": "code",
        "outputId": "0c6ea77c-1d38-4a23-8a80-341cbdce7e6d",
        "colab": {
          "base_uri": "https://localhost:8080/"
        }
      },
      "source": [
        "# Compute matrix T for the testing images\n",
        "T_A = [X_test[i]-mean_A for i in range(N)]\n",
        "T_A = np.array(T_A)\n",
        "T_A.shape"
      ],
      "execution_count": 0,
      "outputs": [
        {
          "output_type": "execute_result",
          "data": {
            "text/plain": [
              "(104, 2576)"
            ]
          },
          "metadata": {
            "tags": []
          },
          "execution_count": 159
        }
      ]
    },
    {
      "cell_type": "code",
      "metadata": {
        "id": "2sW-DOSOWVZj",
        "colab_type": "code",
        "outputId": "2c78fab8-c3df-4c0d-b615-5a456a9aeb01",
        "colab": {
          "base_uri": "https://localhost:8080/"
        }
      },
      "source": [
        "w_T_A = T_A.dot(evec_A.T)\n",
        "w_T_A.shape"
      ],
      "execution_count": 0,
      "outputs": [
        {
          "output_type": "execute_result",
          "data": {
            "text/plain": [
              "(104, 103)"
            ]
          },
          "metadata": {
            "tags": []
          },
          "execution_count": 161
        }
      ]
    },
    {
      "cell_type": "code",
      "metadata": {
        "id": "dFUeVtdAWavr",
        "colab_type": "code",
        "colab": {}
      },
      "source": [
        "# calculate predicted labels in A\n",
        "y_pred = []\n",
        "for test in w_T_A:\n",
        "  min_e = float('inf')\n",
        "  label = 0\n",
        "  for i in range(N):\n",
        "    error = np.linalg.norm(test-w_A[i])\n",
        "    if error < min_e:\n",
        "      min_e = error\n",
        "      label = y_train_A[i][0]\n",
        "  y_pred.append(label)"
      ],
      "execution_count": 0,
      "outputs": []
    },
    {
      "cell_type": "code",
      "metadata": {
        "id": "fm1lWB4zWo_l",
        "colab_type": "code",
        "outputId": "29a3996c-6a07-476a-9e48-c0c3cfd62437",
        "colab": {
          "base_uri": "https://localhost:8080/"
        }
      },
      "source": [
        "# confusion matrix for AB\n",
        "from sklearn.metrics import confusion_matrix\n",
        "\n",
        "y_actu = list(y_test.flatten())\n",
        "cm = confusion_matrix(y_actu, y_pred)\n",
        "\n",
        "plt.matshow(cm, cmap = 'magma')\n",
        "plt.colorbar()\n",
        "plt.ylabel('Actual')\n",
        "plt.xlabel('Predicted')\n",
        "plt.show()"
      ],
      "execution_count": 0,
      "outputs": [
        {
          "output_type": "display_data",
          "data": {
            "image/png": "[encoded data removed]",
            "text/plain": [
              "<Figure size 288x288 with 2 Axes>"
            ]
          },
          "metadata": {
            "tags": []
          }
        }
      ]
    },
    {
      "cell_type": "code",
      "metadata": {
        "id": "k4ENGY1AWtcw",
        "colab_type": "code",
        "outputId": "f0f17352-5d38-4bc9-aacd-6f229f252d94",
        "colab": {
          "base_uri": "https://localhost:8080/"
        }
      },
      "source": [
        "# Accuracy of batch A\n",
        "print(acc(y_actu, y_pred))"
      ],
      "execution_count": 0,
      "outputs": [
        {
          "output_type": "stream",
          "text": [
            "32.69230769230769\n"
          ],
          "name": "stdout"
        }
      ]
    },
    {
      "cell_type": "markdown",
      "metadata": {
        "id": "rTzfJsevMsv3",
        "colab_type": "text"
      },
      "source": [
        "# Incremental PCA with batches AB"
      ]
    },
    {
      "cell_type": "code",
      "metadata": {
        "id": "j0GTgqDCN-ex",
        "colab_type": "code",
        "colab": {}
      },
      "source": [
        "# Combined mean\n",
        "N_AB = 2*N\n",
        "mean_AB = (N*mean_A + N*mean_B)/N_AB\n",
        "\n",
        "# Combined covariance matrix\n",
        "A = [X_train_A[i] - mean_A for i in range(N)]\n",
        "A = np.array(A)\n",
        "A = A.T\n",
        "S_A = 1/N*A.dot(A.T)\n",
        "\n",
        "B = [X_train_B[i] - mean_B for i in range(N)]\n",
        "B = np.array(B)\n",
        "B = B.T\n",
        "S_B = 1/N*B.dot(B.T)\n",
        "\n",
        "S_AB = N/N_AB*S_A + N/N_AB*S_B + (N*N/N_AB**2)*(mean_A-mean_B)*(mean_A-mean_B).T"
      ],
      "execution_count": 0,
      "outputs": []
    },
    {
      "cell_type": "code",
      "metadata": {
        "id": "3WES63rir-P9",
        "colab_type": "code",
        "colab": {}
      },
      "source": [
        "# normalise the face A\n",
        "face_avg = np.array(mean_A).reshape(2576, 1)\n",
        "face_avg = normalize(face_avg, axis=0, norm='l1')\n",
        "mean_A_N = np.concatenate(face_avg.T)\n",
        "# normalise the face B\n",
        "face_avg = np.array(mean_B).reshape(2576, 1)\n",
        "face_avg = normalize(face_avg, axis=0, norm='l1')\n",
        "mean_B_N = np.concatenate(face_avg.T)"
      ],
      "execution_count": 0,
      "outputs": []
    },
    {
      "cell_type": "code",
      "metadata": {
        "id": "XQtUJIKsPHBs",
        "colab_type": "code",
        "colab": {}
      },
      "source": [
        "# Eigenvectors of A & B\n",
        "og_eval_A, og_evec_A = np.linalg.eig(S_A)\n",
        "og_eval_B, og_evec_B = np.linalg.eig(S_B)"
      ],
      "execution_count": 0,
      "outputs": []
    },
    {
      "cell_type": "code",
      "metadata": {
        "id": "DYi_Rr2zEN8v",
        "colab_type": "code",
        "colab": {}
      },
      "source": [
        "def normalise(matrix):\n",
        "  mm = []\n",
        "  for m in matrix:\n",
        "    mm.append(np.real(m))\n",
        "  mat = np.array(mm)\n",
        "\n",
        "  return normalize(mat, axis=0, norm='l1')"
      ],
      "execution_count": 0,
      "outputs": []
    },
    {
      "cell_type": "code",
      "metadata": {
        "id": "l7sWYGWLr_5g",
        "colab_type": "code",
        "colab": {}
      },
      "source": [
        "# Only take the first 103 evec which correspond to non-zero eigenvalues\n",
        "evec_A = og_evec_A.T[:103]\n",
        "evec_B = og_evec_B.T[:103]\n",
        "\n",
        "evec_A = normalise(evec_A)\n",
        "evec_B = normalise(evec_B)"
      ],
      "execution_count": 0,
      "outputs": []
    },
    {
      "cell_type": "code",
      "metadata": {
        "id": "2gmwIk4mfJLR",
        "colab_type": "code",
        "outputId": "a1e56a83-1b4b-4e15-9eb0-d266bb8abdef",
        "colab": {
          "base_uri": "https://localhost:8080/",
          "height": 71
        }
      },
      "source": [
        "# Calculate the Gram-Schmidt orthogonalization of evec_A, evec_B and the difference of means\n",
        "def gram_schmidt(v):\n",
        "    basis = []\n",
        "    w = v - np.sum( np.dot(v,b)*b  for b in basis )\n",
        "    if (w > 1e-10).any():  \n",
        "        basis.append(w/np.linalg.norm(w))\n",
        "    return np.array(basis)[0]\n",
        "\n",
        "concatenation = []\n",
        "for a in evec_A:\n",
        "  concatenation.append(a)\n",
        "for b in evec_B:\n",
        "  concatenation.append(b)\n",
        "concatenation.append(mean_A_N-mean_B_N)\n",
        "\n",
        "phi_AB = gram_schmidt(np.array(concatenation))"
      ],
      "execution_count": 0,
      "outputs": [
        {
          "output_type": "stream",
          "text": [
            "/usr/local/lib/python3.6/dist-packages/ipykernel_launcher.py:3: DeprecationWarning: Calling np.sum(generator) is deprecated, and in the future will give a different result. Use np.sum(np.fromiter(generator)) or the python sum builtin instead.\n",
            "  This is separate from the ipykernel package so we can avoid doing imports until\n"
          ],
          "name": "stderr"
        }
      ]
    },
    {
      "cell_type": "code",
      "metadata": {
        "id": "-eDYlQ4zfuV0",
        "colab_type": "code",
        "colab": {}
      },
      "source": [
        "# Calculate the rotation matrix R\n",
        "low_dim = phi_AB.dot(S_AB)\n",
        "low_dim = low_dim.dot(phi_AB.T)\n",
        "eval_AB, R_AB = np.linalg.eig(low_dim)\n",
        "\n",
        "R_AB = normalise(R_AB)   # Normalise eigenvectors R. Use this function since it has a Re/Im format "
      ],
      "execution_count": 0,
      "outputs": []
    },
    {
      "cell_type": "code",
      "metadata": {
        "id": "5LsLr25hlySU",
        "colab_type": "code",
        "colab": {}
      },
      "source": [
        "# Calculate eigenvector of S_AB\n",
        "evec_AB = phi_AB.T.dot(R_AB)\n",
        "# Normalise evec AB\n",
        "evec_AB = normalize(evec_AB, axis=0, norm='l1')"
      ],
      "execution_count": 0,
      "outputs": []
    },
    {
      "cell_type": "markdown",
      "metadata": {
        "id": "aM1MoiXmflLh",
        "colab_type": "text"
      },
      "source": [
        "# Face reconstruction AB\n",
        "\n",
        "\n"
      ]
    },
    {
      "cell_type": "code",
      "metadata": {
        "id": "oJfB-1tlEDDq",
        "colab_type": "code",
        "outputId": "5db66ec9-3eac-480a-c621-587edde70335",
        "colab": {
          "base_uri": "https://localhost:8080/",
          "height": 34
        }
      },
      "source": [
        "# Compute the weights for AB\n",
        "X_train_AB = np.concatenate((X_train_A, X_train_B))\n",
        "AB = [X_train_AB[i]-mean_AB for i in range(N_AB)]\n",
        "AB = np.array(AB)\n",
        "\n",
        "w_AB = AB.dot(evec_AB)\n",
        "w_AB.shape"
      ],
      "execution_count": 0,
      "outputs": [
        {
          "output_type": "execute_result",
          "data": {
            "text/plain": [
              "(208, 207)"
            ]
          },
          "metadata": {
            "tags": []
          },
          "execution_count": 17
        }
      ]
    },
    {
      "cell_type": "code",
      "metadata": {
        "id": "f56h7TC-m5qs",
        "colab_type": "code",
        "colab": {}
      },
      "source": [
        "# normalise the face AB\n",
        "face_avg = np.array(mean_AB).reshape(2576, 1)\n",
        "face_avg = normalize(face_avg, axis=0, norm='l1')\n",
        "mean_AB_N = np.concatenate(face_avg.T)"
      ],
      "execution_count": 0,
      "outputs": []
    },
    {
      "cell_type": "code",
      "metadata": {
        "id": "QvTTaUuyfnqB",
        "colab_type": "code",
        "colab": {}
      },
      "source": [
        "# reconstruction of all faces\n",
        "all_recon_faces_AB = []\n",
        "for i in range(w_AB.shape[0]):\n",
        "  recon_face = np.zeros(mean_AB.shape)\n",
        "  for a, eface in zip(w_AB[i], evec_AB.T):\n",
        "    recon_face += a*eface\n",
        "  recon_face += mean_AB_N\n",
        "  all_recon_faces_AB.append(recon_face)"
      ],
      "execution_count": 0,
      "outputs": []
    },
    {
      "cell_type": "code",
      "metadata": {
        "id": "5x0wMg30hi4C",
        "colab_type": "code",
        "outputId": "4b1f0dfd-0240-4552-d44c-71d0a6c68b3a",
        "colab": {
          "base_uri": "https://localhost:8080/",
          "height": 284
        }
      },
      "source": [
        "x = np.reshape(all_recon_faces_AB[1], (46, 56))\n",
        "plt.imshow(x.T, cmap='gist_gray')"
      ],
      "execution_count": 0,
      "outputs": [
        {
          "output_type": "execute_result",
          "data": {
            "text/plain": [
              "<matplotlib.image.AxesImage at 0x7fe20c7974e0>"
            ]
          },
          "metadata": {
            "tags": []
          },
          "execution_count": 20
        },
        {
          "output_type": "display_data",
          "data": {
            "image/png": "[encoded data removed]",
            "text/plain": [
              "<Figure size 432x288 with 1 Axes>"
            ]
          },
          "metadata": {
            "tags": []
          }
        }
      ]
    },
    {
      "cell_type": "code",
      "metadata": {
        "id": "CELtfjj0qxDk",
        "colab_type": "code",
        "outputId": "0968a1d1-45a0-4bc1-c5d9-ecdb0850be9d",
        "colab": {
          "base_uri": "https://localhost:8080/",
          "height": 34
        }
      },
      "source": [
        "# Compute error per pixel for all images:\n",
        "X_train_AB_N = normalise(X_train_AB)\n",
        "\n",
        "# Frobenius form\n",
        "fro_train_AB = np.linalg.norm(X_train_AB_N)\n",
        "fro_rec_AB = np.linalg.norm(all_recon_faces_AB)\n",
        "print(fro_train_AB, fro_rec_AB)"
      ],
      "execution_count": 0,
      "outputs": [
        {
          "output_type": "stream",
          "text": [
            "3.9148022351438136 17.821361314696873\n"
          ],
          "name": "stdout"
        }
      ]
    },
    {
      "cell_type": "markdown",
      "metadata": {
        "id": "E4fFJ-hBftCi",
        "colab_type": "text"
      },
      "source": [
        "# Confusion Matrix for IPCA of AB"
      ]
    },
    {
      "cell_type": "code",
      "metadata": {
        "id": "WPVp-ow19fpQ",
        "colab_type": "code",
        "outputId": "d7475e22-43ea-43eb-f998-5a4d6e0f49c5",
        "colab": {
          "base_uri": "https://localhost:8080/",
          "height": 34
        }
      },
      "source": [
        "# Compute matrix T for the testing images\n",
        "T_AB = [X_test[i]-mean_AB for i in range(N)]\n",
        "T_AB = np.array(T_AB)\n",
        "T_AB.shape"
      ],
      "execution_count": 0,
      "outputs": [
        {
          "output_type": "execute_result",
          "data": {
            "text/plain": [
              "(104, 2576)"
            ]
          },
          "metadata": {
            "tags": []
          },
          "execution_count": 22
        }
      ]
    },
    {
      "cell_type": "code",
      "metadata": {
        "id": "Y7BzLM3v_xfy",
        "colab_type": "code",
        "outputId": "8f5f4289-941f-4efd-c785-b893bd5cfc88",
        "colab": {
          "base_uri": "https://localhost:8080/",
          "height": 34
        }
      },
      "source": [
        "w_T_AB = T_AB.dot(evec_AB)\n",
        "w_T_AB.shape"
      ],
      "execution_count": 0,
      "outputs": [
        {
          "output_type": "execute_result",
          "data": {
            "text/plain": [
              "(104, 207)"
            ]
          },
          "metadata": {
            "tags": []
          },
          "execution_count": 23
        }
      ]
    },
    {
      "cell_type": "code",
      "metadata": {
        "id": "QT1FDdBcA60h",
        "colab_type": "code",
        "colab": {}
      },
      "source": [
        "# Modify y_train according to the number of batches used\n",
        "y_train_A = []\n",
        "n_batches = 1\n",
        "for k in range(52):\n",
        "  same_labels = y_train[8*k : 8*(k+1)]\n",
        "  y_train_A.append(same_labels[:2*n_batches])\n",
        "y_train_A = np.concatenate(y_train_A)\n",
        "\n",
        "y_train_AB = np.concatenate((y_train_A, y_train_A))"
      ],
      "execution_count": 0,
      "outputs": []
    },
    {
      "cell_type": "code",
      "metadata": {
        "id": "5A7Go7NJANHL",
        "colab_type": "code",
        "colab": {}
      },
      "source": [
        "# calculate predicted labels in AB\n",
        "y_pred = []\n",
        "for test in w_T_AB:\n",
        "  min_e = float('inf')\n",
        "  label = 0\n",
        "  for i in range(N_AB):\n",
        "    error = np.linalg.norm(test-w_AB[i])\n",
        "    if error < min_e:\n",
        "      min_e = error\n",
        "      label = y_train_AB[i][0]\n",
        "  y_pred.append(label)"
      ],
      "execution_count": 0,
      "outputs": []
    },
    {
      "cell_type": "code",
      "metadata": {
        "id": "nQLmVYQk_B5v",
        "colab_type": "code",
        "outputId": "b2f48c0c-fa9a-4fdc-d3de-44f12edc592e",
        "colab": {
          "base_uri": "https://localhost:8080/",
          "height": 264
        }
      },
      "source": [
        "# confusion matrix for AB\n",
        "from sklearn.metrics import confusion_matrix\n",
        "\n",
        "y_actu = list(y_test.flatten())\n",
        "cm = confusion_matrix(y_actu, y_pred)\n",
        "\n",
        "plt.matshow(cm, cmap = 'magma')\n",
        "plt.colorbar()\n",
        "plt.ylabel('Actual')\n",
        "plt.xlabel('Predicted')\n",
        "plt.show()"
      ],
      "execution_count": 0,
      "outputs": [
        {
          "output_type": "display_data",
          "data": {
            "image/png": "[encoded data removed]",
            "text/plain": [
              "<Figure size 288x288 with 2 Axes>"
            ]
          },
          "metadata": {
            "tags": []
          }
        }
      ]
    },
    {
      "cell_type": "code",
      "metadata": {
        "id": "fv8xuOBPLZeV",
        "colab_type": "code",
        "colab": {}
      },
      "source": [
        "def acc(y_actu, y_pred):\n",
        "  correct_labels = 0\n",
        "  for actu, pred in zip(y_actu, y_pred):\n",
        "    correct_labels = correct_labels + 1 if actu == pred else correct_labels\n",
        "\n",
        "  return correct_labels / len(y_actu) * 100"
      ],
      "execution_count": 0,
      "outputs": []
    },
    {
      "cell_type": "code",
      "metadata": {
        "id": "v1sBGoosie8C",
        "colab_type": "code",
        "outputId": "456fb3ae-321c-400c-ab5c-dfc47660f20b",
        "colab": {
          "base_uri": "https://localhost:8080/",
          "height": 34
        }
      },
      "source": [
        "# Compute accuracy of AB\n",
        "print(acc(y_actu, y_pred))"
      ],
      "execution_count": 0,
      "outputs": [
        {
          "output_type": "stream",
          "text": [
            "54.807692307692314\n"
          ],
          "name": "stdout"
        }
      ]
    },
    {
      "cell_type": "markdown",
      "metadata": {
        "id": "ntUstMkSUkfj",
        "colab_type": "text"
      },
      "source": [
        "# Incremental PCA with batches ABC"
      ]
    },
    {
      "cell_type": "code",
      "metadata": {
        "id": "FNUFlCkvUg2F",
        "colab_type": "code",
        "colab": {}
      },
      "source": [
        "# Combined mean\n",
        "N_ABC = 3*N\n",
        "mean_ABC = (N_AB*mean_AB + N*mean_C)/N_ABC\n",
        "\n",
        "# Combined covariance matrix\n",
        "C = [X_train_C[i] - mean_C for i in range(N)]\n",
        "C = np.array(C)\n",
        "C = C.T\n",
        "S_C = 1/N*C.dot(C.T)\n",
        "\n",
        "S_ABC = N_AB/N_ABC*S_AB + N/N_ABC*S_C + (N_AB*N/N_ABC**2)*(mean_AB-mean_C)*(mean_AB-mean_C).T"
      ],
      "execution_count": 0,
      "outputs": []
    },
    {
      "cell_type": "code",
      "metadata": {
        "id": "ntXfATWXBC7g",
        "colab_type": "code",
        "colab": {}
      },
      "source": [
        "# normalise the face C\n",
        "face_avg = np.array(mean_C).reshape(2576, 1)\n",
        "face_avg = normalize(face_avg, axis=0, norm='l1')\n",
        "mean_C_N = np.concatenate(face_avg.T)"
      ],
      "execution_count": 0,
      "outputs": []
    },
    {
      "cell_type": "code",
      "metadata": {
        "id": "q47RfJj2CxwC",
        "colab_type": "code",
        "colab": {}
      },
      "source": [
        "# Eigenvectors of C\n",
        "og_eval_C, og_evec_C = np.linalg.eig(S_C)"
      ],
      "execution_count": 0,
      "outputs": []
    },
    {
      "cell_type": "code",
      "metadata": {
        "id": "aNFjE--nV84H",
        "colab_type": "code",
        "colab": {}
      },
      "source": [
        "# Only take the first 103 evec which correspond to non-zero eigenvalues\n",
        "evec_C = og_evec_C.T[:103]\n",
        "\n",
        "evec_C = normalise(evec_C)"
      ],
      "execution_count": 0,
      "outputs": []
    },
    {
      "cell_type": "code",
      "metadata": {
        "id": "VoRTQObcWG3d",
        "colab_type": "code",
        "colab": {}
      },
      "source": [
        "# Calculate the Gram-Schmidt orthogonalization of evec_AB, evec_C and the difference of means\n",
        "concatenation = []\n",
        "for a in evec_AB.T:\n",
        "  concatenation.append(a)\n",
        "for c in evec_C:\n",
        "  concatenation.append(c)\n",
        "concatenation.append(mean_AB_N-mean_C_N)\n",
        "\n",
        "phi_ABC = gram_schmidt(np.array(concatenation))"
      ],
      "execution_count": 0,
      "outputs": []
    },
    {
      "cell_type": "code",
      "metadata": {
        "id": "zHhZ8Un_Wrgb",
        "colab_type": "code",
        "colab": {}
      },
      "source": [
        "# Calculate the rotation matrix R\n",
        "low_dim = phi_ABC.dot(S_ABC)\n",
        "low_dim = low_dim.dot(phi_ABC.T)\n",
        "eval_ABC, R_ABC = np.linalg.eig(low_dim)\n",
        "\n",
        "R_ABC = normalise(R_ABC)"
      ],
      "execution_count": 0,
      "outputs": []
    },
    {
      "cell_type": "code",
      "metadata": {
        "id": "5J515iPTYZsc",
        "colab_type": "code",
        "colab": {}
      },
      "source": [
        "# Calculate eigenvector of S_ABC\n",
        "evec_ABC = phi_ABC.T.dot(R_ABC)\n",
        "# Normalise evec ABC\n",
        "evec_ABC = normalize(evec_ABC, axis=0, norm='l1')"
      ],
      "execution_count": 0,
      "outputs": []
    },
    {
      "cell_type": "markdown",
      "metadata": {
        "id": "HKOM0at_JqGK",
        "colab_type": "text"
      },
      "source": [
        "# Face reconstruction ABC"
      ]
    },
    {
      "cell_type": "code",
      "metadata": {
        "id": "0zfxNCuEHchA",
        "colab_type": "code",
        "outputId": "0be87358-23f0-454f-ea13-49815c67a54c",
        "colab": {
          "base_uri": "https://localhost:8080/",
          "height": 34
        }
      },
      "source": [
        "# Compute the weights for ABC\n",
        "X_train_ABC = np.concatenate((X_train_AB, X_train_C))\n",
        "ABC = [X_train_ABC[i]-mean_ABC for i in range(N_ABC)]\n",
        "ABC = np.array(ABC)\n",
        "\n",
        "w_ABC = ABC.dot(evec_ABC)\n",
        "w_ABC.shape"
      ],
      "execution_count": 0,
      "outputs": [
        {
          "output_type": "execute_result",
          "data": {
            "text/plain": [
              "(312, 311)"
            ]
          },
          "metadata": {
            "tags": []
          },
          "execution_count": 38
        }
      ]
    },
    {
      "cell_type": "code",
      "metadata": {
        "id": "_Bb12JgtJmXe",
        "colab_type": "code",
        "colab": {}
      },
      "source": [
        "# normalise the face AB\n",
        "face_avg = np.array(mean_ABC).reshape(2576, 1)\n",
        "face_avg = normalize(face_avg, axis=0, norm='l1')\n",
        "mean_ABC_N = np.concatenate(face_avg.T)"
      ],
      "execution_count": 0,
      "outputs": []
    },
    {
      "cell_type": "code",
      "metadata": {
        "id": "_jME5CKHJ1bq",
        "colab_type": "code",
        "colab": {}
      },
      "source": [
        "# reconstruction of all faces\n",
        "all_recon_faces_ABC = []\n",
        "for i in range(w_ABC.shape[0]):\n",
        "  recon_face = np.zeros(mean_ABC.shape)\n",
        "  for a, eface in zip(w_ABC[i], evec_ABC.T):\n",
        "    recon_face += a*eface\n",
        "  recon_face += mean_ABC_N\n",
        "  all_recon_faces_ABC.append(recon_face)"
      ],
      "execution_count": 0,
      "outputs": []
    },
    {
      "cell_type": "code",
      "metadata": {
        "id": "auwSds4NJ2mR",
        "colab_type": "code",
        "outputId": "8ce104ef-86c5-4f5c-bc05-a88be8f88819",
        "colab": {
          "base_uri": "https://localhost:8080/",
          "height": 284
        }
      },
      "source": [
        "x = np.reshape(all_recon_faces_ABC[0], (46, 56))\n",
        "plt.imshow(x.T, cmap='gist_gray')"
      ],
      "execution_count": 0,
      "outputs": [
        {
          "output_type": "execute_result",
          "data": {
            "text/plain": [
              "<matplotlib.image.AxesImage at 0x7fe20c5efa58>"
            ]
          },
          "metadata": {
            "tags": []
          },
          "execution_count": 41
        },
        {
          "output_type": "display_data",
          "data": {
            "image/png": "[encoded data removed]",
            "text/plain": [
              "<Figure size 432x288 with 1 Axes>"
            ]
          },
          "metadata": {
            "tags": []
          }
        }
      ]
    },
    {
      "cell_type": "code",
      "metadata": {
        "id": "y1N3POrIy6jP",
        "colab_type": "code",
        "outputId": "0a014803-c268-4293-865c-d1aeb7566778",
        "colab": {
          "base_uri": "https://localhost:8080/",
          "height": 34
        }
      },
      "source": [
        "# Compute error per pixel for all images:\n",
        "X_train_ABC_N = normalise(X_train_ABC)\n",
        "\n",
        "# Frobenius form\n",
        "fro_train_ABC = np.linalg.norm(X_train_ABC_N)\n",
        "fro_rec_ABC = np.linalg.norm(all_recon_faces_ABC)\n",
        "print(fro_train_ABC, fro_rec_ABC)"
      ],
      "execution_count": 0,
      "outputs": [
        {
          "output_type": "stream",
          "text": [
            "3.201514363303108 22.16529624709466\n"
          ],
          "name": "stdout"
        }
      ]
    },
    {
      "cell_type": "markdown",
      "metadata": {
        "id": "E9nBEcYhabJg",
        "colab_type": "text"
      },
      "source": [
        "# Confusion Matrix for IPCA of ABC"
      ]
    },
    {
      "cell_type": "code",
      "metadata": {
        "id": "GFxv5YORdg3E",
        "colab_type": "code",
        "outputId": "a2a9f314-64f1-47fc-aed8-521bf66e4e7c",
        "colab": {
          "base_uri": "https://localhost:8080/",
          "height": 34
        }
      },
      "source": [
        "# Compute matrix T for the testing images\n",
        "T_ABC = [X_test[i]-mean_ABC for i in range(N)]\n",
        "T_ABC = np.array(T_ABC)\n",
        "T_ABC.shape"
      ],
      "execution_count": 0,
      "outputs": [
        {
          "output_type": "execute_result",
          "data": {
            "text/plain": [
              "(104, 2576)"
            ]
          },
          "metadata": {
            "tags": []
          },
          "execution_count": 43
        }
      ]
    },
    {
      "cell_type": "code",
      "metadata": {
        "id": "IplvWIpKFr5s",
        "colab_type": "code",
        "outputId": "fa09c45b-1bed-4a7c-bb09-ee1dc54dda23",
        "colab": {
          "base_uri": "https://localhost:8080/",
          "height": 34
        }
      },
      "source": [
        "w_T_ABC = T_ABC.dot(evec_ABC)\n",
        "w_T_ABC.shape"
      ],
      "execution_count": 0,
      "outputs": [
        {
          "output_type": "execute_result",
          "data": {
            "text/plain": [
              "(104, 311)"
            ]
          },
          "metadata": {
            "tags": []
          },
          "execution_count": 44
        }
      ]
    },
    {
      "cell_type": "code",
      "metadata": {
        "id": "xglhOaVyFvFr",
        "colab_type": "code",
        "colab": {}
      },
      "source": [
        "y_train_ABC = np.concatenate((y_train_A, y_train_A, y_train_A))"
      ],
      "execution_count": 0,
      "outputs": []
    },
    {
      "cell_type": "code",
      "metadata": {
        "id": "abvPrc74Fyu1",
        "colab_type": "code",
        "colab": {}
      },
      "source": [
        "# calculate predicted labels in ABC\n",
        "y_pred = []\n",
        "for test in w_T_ABC:\n",
        "  min_e = float('inf')\n",
        "  label = 0\n",
        "  for i in range(N_ABC):\n",
        "    error = np.linalg.norm(test-w_ABC[i])\n",
        "    if error < min_e:\n",
        "      min_e = error\n",
        "      label = y_train_ABC[i][0]\n",
        "  y_pred.append(label)"
      ],
      "execution_count": 0,
      "outputs": []
    },
    {
      "cell_type": "code",
      "metadata": {
        "id": "B6V95-L5GtBB",
        "colab_type": "code",
        "outputId": "6908d7d9-7609-4114-abb5-c9fc2b4176f8",
        "colab": {
          "base_uri": "https://localhost:8080/",
          "height": 264
        }
      },
      "source": [
        "# confusion matrix for ABC\n",
        "from sklearn.metrics import confusion_matrix\n",
        "\n",
        "y_actu = list(y_test.flatten())\n",
        "cm = confusion_matrix(y_actu, y_pred)\n",
        "\n",
        "plt.matshow(cm, cmap = 'magma')\n",
        "plt.colorbar()\n",
        "plt.ylabel('Actual')\n",
        "plt.xlabel('Predicted')\n",
        "plt.show()"
      ],
      "execution_count": 0,
      "outputs": [
        {
          "output_type": "display_data",
          "data": {
            "image/png": "[encoded data removed]",
            "text/plain": [
              "<Figure size 288x288 with 2 Axes>"
            ]
          },
          "metadata": {
            "tags": []
          }
        }
      ]
    },
    {
      "cell_type": "code",
      "metadata": {
        "id": "5DPHxLs5HGaA",
        "colab_type": "code",
        "outputId": "d66cc62d-9513-437e-b134-88d2d9608015",
        "colab": {
          "base_uri": "https://localhost:8080/",
          "height": 34
        }
      },
      "source": [
        "# Accuracy of IPCA of ABC\n",
        "print(acc(y_actu, y_pred))"
      ],
      "execution_count": 0,
      "outputs": [
        {
          "output_type": "stream",
          "text": [
            "59.61538461538461\n"
          ],
          "name": "stdout"
        }
      ]
    },
    {
      "cell_type": "markdown",
      "metadata": {
        "id": "wqMJNaOZG3r1",
        "colab_type": "text"
      },
      "source": [
        "# Incremental PCA with batches ABCD"
      ]
    },
    {
      "cell_type": "code",
      "metadata": {
        "id": "PRgUvyy1G_a8",
        "colab_type": "code",
        "colab": {}
      },
      "source": [
        "# Combined mean\n",
        "N_ABCD = 4*N\n",
        "mean_ABCD = (N_ABC*mean_ABC + N*mean_D)/N_ABCD\n",
        "\n",
        "# Combined covariance matrix\n",
        "D = [X_train_D[i] - mean_D for i in range(N)]\n",
        "D = np.array(D)\n",
        "D = D.T\n",
        "S_D = 1/N*D.dot(D.T)\n",
        "\n",
        "S_ABCD = N_ABC/N_ABCD*S_ABC + N/N_ABCD*S_D + (N_ABC*N/N_ABCD**2)*(mean_ABC-mean_D)*(mean_ABC-mean_D).T"
      ],
      "execution_count": 0,
      "outputs": []
    },
    {
      "cell_type": "code",
      "metadata": {
        "id": "9C9KoeLoHUGP",
        "colab_type": "code",
        "colab": {}
      },
      "source": [
        "start = time()\n",
        "# normalise the face D\n",
        "face_avg = np.array(mean_D).reshape(2576, 1)\n",
        "face_avg = normalize(face_avg, axis=0, norm='l1')\n",
        "mean_D_N = np.concatenate(face_avg.T)\n",
        "end = time()"
      ],
      "execution_count": 0,
      "outputs": []
    },
    {
      "cell_type": "code",
      "metadata": {
        "id": "mB_38HnOIQ1D",
        "colab_type": "code",
        "colab": {}
      },
      "source": [
        "og_eval_D, og_evec_D = np.linalg.eig(S_D)"
      ],
      "execution_count": 0,
      "outputs": []
    },
    {
      "cell_type": "code",
      "metadata": {
        "id": "NcBJsLBsIohB",
        "colab_type": "code",
        "colab": {}
      },
      "source": [
        "# Only take the first 103 evec which correspond to non-zero eigenvalues\n",
        "evec_D = og_evec_D.T[:103]\n",
        "\n",
        "evec_D = normalise(evec_D)"
      ],
      "execution_count": 0,
      "outputs": []
    },
    {
      "cell_type": "code",
      "metadata": {
        "id": "Uh0CNHJaIS2d",
        "colab_type": "code",
        "colab": {}
      },
      "source": [
        "# Calculate the Gram-Schmidt orthogonalization of evec_ABC, evec_D and the difference of means\n",
        "concatenation = []\n",
        "for a in evec_ABC.T:\n",
        "  concatenation.append(a)\n",
        "for d in evec_D:\n",
        "  concatenation.append(d)\n",
        "concatenation.append(mean_ABC_N-mean_D_N)\n",
        "\n",
        "phi_ABCD = gram_schmidt(np.array(concatenation))"
      ],
      "execution_count": 0,
      "outputs": []
    },
    {
      "cell_type": "code",
      "metadata": {
        "id": "crfr9Q9tJOFu",
        "colab_type": "code",
        "colab": {}
      },
      "source": [
        "# Calculate the rotation matrix R\n",
        "low_dim = phi_ABCD.dot(S_ABCD)\n",
        "low_dim = low_dim.dot(phi_ABCD.T)\n",
        "eval_ABCD, R_ABCD = np.linalg.eig(low_dim)\n",
        "\n",
        "R_ABCD = normalise(R_ABCD) "
      ],
      "execution_count": 0,
      "outputs": []
    },
    {
      "cell_type": "code",
      "metadata": {
        "id": "xaxAAjr6JQtO",
        "colab_type": "code",
        "colab": {}
      },
      "source": [
        "# Calculate eigenvector of S_AB\n",
        "evec_ABCD = phi_ABCD.T.dot(R_ABCD)\n",
        "# Normalise evec ABCD\n",
        "evec_ABCD = normalize(evec_ABCD, axis=0, norm='l1')"
      ],
      "execution_count": 0,
      "outputs": []
    },
    {
      "cell_type": "code",
      "metadata": {
        "id": "1MwUPOkKUN3e",
        "colab_type": "code",
        "outputId": "f46af409-142b-47c9-b327-df224668ca08",
        "colab": {
          "base_uri": "https://localhost:8080/",
          "height": 192
        }
      },
      "source": [
        "import numpy as np\n",
        "import matplotlib.pyplot as plt\n",
        "\n",
        "w=10\n",
        "h=5\n",
        "fig=plt.figure(figsize=(10, 3))\n",
        "columns = 8\n",
        "rows = 2\n",
        "for i in range(1, columns*rows +1):\n",
        "    img = np.reshape(evec_ABCD.T[i], (46, 56))\n",
        "    fig.add_subplot(rows, columns, i)\n",
        "    plt.axis('off')\n",
        "    plt.imshow(img.T)\n",
        "plt.show()"
      ],
      "execution_count": 0,
      "outputs": [
        {
          "output_type": "display_data",
          "data": {
            "image/png": "[encoded data removed]",
            "text/plain": [
              "<Figure size 720x216 with 16 Axes>"
            ]
          },
          "metadata": {
            "tags": []
          }
        }
      ]
    },
    {
      "cell_type": "markdown",
      "metadata": {
        "id": "MSWsNEIuLZtz",
        "colab_type": "text"
      },
      "source": [
        "# Face reconstruction ABCD"
      ]
    },
    {
      "cell_type": "code",
      "metadata": {
        "id": "enszICs4LYYn",
        "colab_type": "code",
        "outputId": "65017a96-a9b8-4eb4-d42a-9913344c2977",
        "colab": {
          "base_uri": "https://localhost:8080/",
          "height": 34
        }
      },
      "source": [
        "# Compute the weights for ABCD\n",
        "X_train_ABCD = np.concatenate((X_train_ABC, X_train_D))\n",
        "ABCD = [X_train_ABCD[i]-mean_ABCD for i in range(N_ABCD)]\n",
        "ABCD = np.array(ABCD)\n",
        "\n",
        "w_ABCD = ABCD.dot(evec_ABCD)\n",
        "w_ABCD.shape"
      ],
      "execution_count": 0,
      "outputs": [
        {
          "output_type": "execute_result",
          "data": {
            "text/plain": [
              "(416, 415)"
            ]
          },
          "metadata": {
            "tags": []
          },
          "execution_count": 57
        }
      ]
    },
    {
      "cell_type": "code",
      "metadata": {
        "id": "RTRbzSJsMYW-",
        "colab_type": "code",
        "colab": {}
      },
      "source": [
        "# normalise the face ABCD\n",
        "face_avg = np.array(mean_ABCD).reshape(2576, 1)\n",
        "face_avg = normalize(face_avg, axis=0, norm='l1')\n",
        "mean_ABCD_N = np.concatenate(face_avg.T)"
      ],
      "execution_count": 0,
      "outputs": []
    },
    {
      "cell_type": "code",
      "metadata": {
        "id": "xFUCkKcAMfoL",
        "colab_type": "code",
        "colab": {}
      },
      "source": [
        "# reconstruction of all faces\n",
        "all_recon_faces_ABCD = []\n",
        "for i in range(w_ABCD.shape[0]):\n",
        "  recon_face = np.zeros(mean_ABCD.shape)\n",
        "  for a, eface in zip(w_ABCD[i], evec_ABCD.T):\n",
        "    recon_face += a*eface\n",
        "  recon_face += mean_ABCD_N\n",
        "  all_recon_faces_ABCD.append(recon_face)"
      ],
      "execution_count": 0,
      "outputs": []
    },
    {
      "cell_type": "code",
      "metadata": {
        "id": "MhNRPGC7Mink",
        "colab_type": "code",
        "outputId": "456ea857-c49b-4e4c-ab4c-bc5d423cbf45",
        "colab": {
          "base_uri": "https://localhost:8080/",
          "height": 284
        }
      },
      "source": [
        "x = np.reshape(all_recon_faces_ABCD[1], (46, 56))\n",
        "plt.imshow(x.T, cmap='gist_gray')"
      ],
      "execution_count": 0,
      "outputs": [
        {
          "output_type": "execute_result",
          "data": {
            "text/plain": [
              "<matplotlib.image.AxesImage at 0x7fe20c18ccc0>"
            ]
          },
          "metadata": {
            "tags": []
          },
          "execution_count": 60
        },
        {
          "output_type": "display_data",
          "data": {
            "image/png": "[encoded data removed]",
            "text/plain": [
              "<Figure size 432x288 with 1 Axes>"
            ]
          },
          "metadata": {
            "tags": []
          }
        }
      ]
    },
    {
      "cell_type": "code",
      "metadata": {
        "id": "0vI94ehFzx5E",
        "colab_type": "code",
        "outputId": "7d789ca5-2170-4223-c247-9ec40f8eb49b",
        "colab": {
          "base_uri": "https://localhost:8080/",
          "height": 34
        }
      },
      "source": [
        "# Compute error per pixel for all images:\n",
        "X_train_ABCD_N = normalise(X_train_ABCD)\n",
        "\n",
        "# Frobenius form\n",
        "fro_train_ABCD = np.linalg.norm(X_train_ABCD_N)\n",
        "fro_rec_ABCD = np.linalg.norm(all_recon_faces_ABCD)\n",
        "print(fro_train_ABCD, fro_rec_ABCD)"
      ],
      "execution_count": 0,
      "outputs": [
        {
          "output_type": "stream",
          "text": [
            "2.774921571922563 24.68614706655822\n"
          ],
          "name": "stdout"
        }
      ]
    },
    {
      "cell_type": "markdown",
      "metadata": {
        "id": "Y7rBTF02ObQM",
        "colab_type": "text"
      },
      "source": [
        "# Confusion Matrix for IPCA of ABCD"
      ]
    },
    {
      "cell_type": "code",
      "metadata": {
        "id": "L_M2MxTaMs5Y",
        "colab_type": "code",
        "outputId": "cd80ecd9-c1c4-4b10-e342-29fa8f311bc9",
        "colab": {
          "base_uri": "https://localhost:8080/",
          "height": 34
        }
      },
      "source": [
        "# Compute matrix T for the testing images\n",
        "T_ABCD = [X_test[i]-mean_ABCD for i in range(N)]\n",
        "T_ABCD = np.array(T_ABCD)\n",
        "T_ABCD.shape"
      ],
      "execution_count": 0,
      "outputs": [
        {
          "output_type": "execute_result",
          "data": {
            "text/plain": [
              "(104, 2576)"
            ]
          },
          "metadata": {
            "tags": []
          },
          "execution_count": 62
        }
      ]
    },
    {
      "cell_type": "code",
      "metadata": {
        "id": "_4F8EnD1Ojn2",
        "colab_type": "code",
        "outputId": "2b5a9534-eb8c-4abb-d8a3-461dd43a74d9",
        "colab": {
          "base_uri": "https://localhost:8080/",
          "height": 34
        }
      },
      "source": [
        "w_T_ABCD = T_ABCD.dot(evec_ABCD)\n",
        "w_T_ABCD.shape"
      ],
      "execution_count": 0,
      "outputs": [
        {
          "output_type": "execute_result",
          "data": {
            "text/plain": [
              "(104, 415)"
            ]
          },
          "metadata": {
            "tags": []
          },
          "execution_count": 63
        }
      ]
    },
    {
      "cell_type": "code",
      "metadata": {
        "id": "i9p-cX14OmjH",
        "colab_type": "code",
        "colab": {}
      },
      "source": [
        "y_train_ABCD = np.concatenate((y_train_A, y_train_A, y_train_A, y_train_A))"
      ],
      "execution_count": 0,
      "outputs": []
    },
    {
      "cell_type": "code",
      "metadata": {
        "id": "DQL1B3xvOocL",
        "colab_type": "code",
        "colab": {}
      },
      "source": [
        "# calculate predicted labels in ABC\n",
        "y_pred = []\n",
        "for test in w_T_ABCD:\n",
        "  min_e = float('inf')\n",
        "  label = 0\n",
        "  for i in range(N_ABCD):\n",
        "    error = np.linalg.norm(test-w_ABCD[i])\n",
        "    if error < min_e:\n",
        "      min_e = error\n",
        "      label = y_train_ABCD[i][0]\n",
        "  y_pred.append(label)"
      ],
      "execution_count": 0,
      "outputs": []
    },
    {
      "cell_type": "code",
      "metadata": {
        "id": "WLRzuZZqOqM8",
        "colab_type": "code",
        "outputId": "4ceb8a86-014d-4b07-c26f-993e39f6250b",
        "colab": {
          "base_uri": "https://localhost:8080/",
          "height": 264
        }
      },
      "source": [
        "# confusion matrix for ABC\n",
        "from sklearn.metrics import confusion_matrix\n",
        "\n",
        "y_actu = list(y_test.flatten())\n",
        "cm = confusion_matrix(y_actu, y_pred)\n",
        "\n",
        "plt.matshow(cm, cmap = 'magma')\n",
        "plt.colorbar()\n",
        "plt.ylabel('Actual')\n",
        "plt.xlabel('Predicted')\n",
        "plt.show()"
      ],
      "execution_count": 0,
      "outputs": [
        {
          "output_type": "display_data",
          "data": {
            "image/png": "[encoded data removed]",
            "text/plain": [
              "<Figure size 288x288 with 2 Axes>"
            ]
          },
          "metadata": {
            "tags": []
          }
        }
      ]
    },
    {
      "cell_type": "code",
      "metadata": {
        "id": "1btJV66xO603",
        "colab_type": "code",
        "outputId": "f979efca-ee6b-4ca5-b1c7-73663d7dfdee",
        "colab": {
          "base_uri": "https://localhost:8080/",
          "height": 34
        }
      },
      "source": [
        "# Accuracy of IPCA of ABCD\n",
        "print(acc(y_actu, y_pred))"
      ],
      "execution_count": 0,
      "outputs": [
        {
          "output_type": "stream",
          "text": [
            "64.42307692307693\n"
          ],
          "name": "stdout"
        }
      ]
    }
  ]
}