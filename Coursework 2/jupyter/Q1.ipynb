{
  "nbformat": 4,
  "nbformat_minor": 0,
  "metadata": {
    "colab": {
      "name": "PR_cw2_Q1.ipynb",
      "provenance": [],
      "collapsed_sections": []
    },
    "kernelspec": {
      "name": "python3",
      "display_name": "Python 3"
    }
  },
  "cells": [
    {
      "cell_type": "code",
      "metadata": {
        "id": "_zcul-zoXJuA",
        "colab_type": "code",
        "colab": {}
      },
      "source": [
        "from time import time\n",
        "import matplotlib.pyplot as plt\n",
        "import scipy as sp\n",
        "import pandas as pd\n",
        "import scipy.io as sio\n",
        "import scipy.spatial.distance as ssd\n",
        "from scipy.stats import chisquare\n",
        "import numpy as np\n",
        "from sklearn.model_selection import train_test_split\n",
        "from sklearn.preprocessing import normalize\n",
        "import cv2"
      ],
      "execution_count": 0,
      "outputs": []
    },
    {
      "cell_type": "code",
      "metadata": {
        "id": "5Rxx-yZZXeYA",
        "colab_type": "code",
        "colab": {}
      },
      "source": [
        "from google.colab import drive\n",
        "drive.mount('/content/drive')\n",
        "data = \"/content/drive/My Drive/Colab Notebooks/face.mat\""
      ],
      "execution_count": 0,
      "outputs": []
    },
    {
      "cell_type": "code",
      "metadata": {
        "id": "U4fw7lFmmKNT",
        "colab_type": "code",
        "colab": {}
      },
      "source": [
        "faces = sio.loadmat(data)\n",
        "X, y = [], []\n",
        "for i in range(53):\n",
        "  face_i = faces['X'][:, 10*i:10*(i+1)]\n",
        "  label_i = faces['l'][:, 10*i:10*(i+1)]\n",
        "  X.append(face_i.T)\n",
        "  y.append(label_i.T)\n",
        "X = np.concatenate(X)\n",
        "X = np.array(X)\n",
        "y = np.concatenate(y)\n",
        "y = np.concatenate(y)"
      ],
      "execution_count": 0,
      "outputs": []
    },
    {
      "cell_type": "code",
      "metadata": {
        "id": "FOlI3SlMX5fp",
        "colab_type": "code",
        "colab": {}
      },
      "source": [
        "X_train, X_test, y_train, y_test = [], [], [], []\n",
        "# train\n",
        "for i in range(32):\n",
        "    face_i = faces['X'][:, 10*i:10*(i+1)]\n",
        "    label_i = faces['l'][:, 10*i:10*(i+1)]\n",
        "  \n",
        "    X_train.append(face_i.T)\n",
        "    y_train.append(label_i.T)\n",
        "#  test\n",
        "for i in range(32, 53):\n",
        "    face_i = faces['X'][:, 10*i:10*(i+1)]\n",
        "    label_i = faces['l'][:, 10*i:10*(i+1)]\n",
        "    X_test.append(face_i.T)\n",
        "    y_test.append(label_i.T) "
      ],
      "execution_count": 0,
      "outputs": []
    },
    {
      "cell_type": "code",
      "metadata": {
        "id": "2vL4bwimaMaS",
        "colab_type": "code",
        "colab": {}
      },
      "source": [
        "X_train = np.concatenate(X_train)\n",
        "X_test = np.concatenate(X_test)\n",
        "y_train = np.concatenate(y_train)\n",
        "y_test = np.concatenate(y_test)\n",
        "\n",
        "X_train = np.array(X_train)\n",
        "X_test = np.array(X_test)\n",
        "y_train = np.array(y_train)\n",
        "y_test = np.array(y_test)"
      ],
      "execution_count": 0,
      "outputs": []
    },
    {
      "cell_type": "code",
      "metadata": {
        "id": "Sm_5tOSoasHL",
        "colab_type": "code",
        "colab": {}
      },
      "source": [
        "X_train_N = normalize(X_train, axis=1, norm='l2')\n",
        "X_test_N = normalize(X_test, axis=1, norm='l2')"
      ],
      "execution_count": 0,
      "outputs": []
    },
    {
      "cell_type": "code",
      "metadata": {
        "id": "ATDG0kfNRA-b",
        "colab_type": "code",
        "colab": {}
      },
      "source": [
        "# ranks and mAP\n",
        "from collections import defaultdict\n",
        "\n",
        "def calculateRank(matrix, y=y_test):\n",
        "  rank1, rank10 = 0, 0\n",
        "  for img, label in zip(matrix, y):\n",
        "    for i in range(1, 11):\n",
        "      _, predicted = img[i]\n",
        "      if predicted == label[0]:\n",
        "        rank1 = rank1 + 1 if i == 1 else rank1\n",
        "        rank10 += 1\n",
        "        break\n",
        "  rank1_pc = rank1/200*100\n",
        "  rank10_pc = rank10/200*100\n",
        "  return rank1_pc, rank10_pc\n",
        "\n",
        "def calculateMAP(matrix, y=y_test):\n",
        "  mAP = []\n",
        "  for img, label in zip(matrix, y):\n",
        "    rank = defaultdict(list)\n",
        "    total_correct = 0\n",
        "    for i in range(11):\n",
        "      _, predicted = img[i]\n",
        "      total_correct = total_correct + 1 if predicted == label[0] else total_correct\n",
        "      precision = total_correct/(i+1)\n",
        "      rank[i+1].append(precision)\n",
        "    new_correct = 0\n",
        "    for i in range(11):\n",
        "      _, predicted = img[i]\n",
        "      new_correct = new_correct + 1 if predicted == label[0] else new_correct\n",
        "      recall = new_correct/total_correct if total_correct != 0 else 0\n",
        "      rank[i+1].append(recall)\n",
        "    mAP.append(rank)\n",
        "  return mAP\n",
        "\n",
        "def numericalMAP(matrix):\n",
        "  AP = 0\n",
        "  for d in matrix:\n",
        "    vals = np.array(list(d.values()))\n",
        "    AP += np.trapz(vals.T[0], vals.T[1])\n",
        "  return AP/len(matrix)"
      ],
      "execution_count": 0,
      "outputs": []
    },
    {
      "cell_type": "markdown",
      "metadata": {
        "id": "6Nd9EXhHiaJU",
        "colab_type": "text"
      },
      "source": [
        "### Baseline\n",
        "\n",
        "Perform retrieval with kNN on features from original and normalised data, using standard non-learned distance metrics.\n"
      ]
    },
    {
      "cell_type": "code",
      "metadata": {
        "id": "2RvN7dbkhc6Z",
        "colab_type": "code",
        "colab": {}
      },
      "source": [
        "# Distances\n",
        "from math import sqrt \n",
        "\n",
        "def manhattan(u, X, y=y_test):\n",
        "  manhattan = []\n",
        "  for img, label in zip(X, y):\n",
        "    manhattan.append((ssd.cityblock(u, img), label))\n",
        "  return manhattan\n",
        "\n",
        "def euclidean(u, X, y=y_test):\n",
        "  euclidean = []\n",
        "  for img, label in zip(X, y):\n",
        "    euclidean.append((ssd.euclidean(u, img), label))\n",
        "  return euclidean\n",
        "\n",
        "def chebyshev(u, X, y=y_test):\n",
        "  chebyshev = []\n",
        "  for img, label in zip(X, y):\n",
        "    chebyshev.append((ssd.chebyshev(u, img), label))\n",
        "  return chebyshev\n",
        "\n",
        "def chiSq(u, X, y=y_test):\n",
        "  chi = []\n",
        "  for img, label in zip(X, y):\n",
        "    # chi.append((chisquare(img, u), label))\n",
        "    chi.append((sqrt(0.5*sum(pow(u-img, 2)/abs(u+img+0.00))), label))\n",
        "  return chi\n",
        "\n",
        "def cosine(u, X, y=y_test):\n",
        "  cosine = []\n",
        "  for img, label in zip(X, y):\n",
        "    cosine.append((ssd.cosine(u, img), label))\n",
        "  return cosine\n",
        "\n",
        "def correlation(u, X, y=y_test):\n",
        "  correlation = []\n",
        "  for img, label in zip(X, y):\n",
        "    correlation.append((ssd.correlation(u, img), label))\n",
        "  return correlation       "
      ],
      "execution_count": 0,
      "outputs": []
    },
    {
      "cell_type": "code",
      "metadata": {
        "id": "aCjskRZu7dv-",
        "colab_type": "code",
        "colab": {}
      },
      "source": [
        "manhattan_matrix, manhattan_matrix_N = [], []\n",
        "euclidean_matrix, euclidean_matrix_N = [], []\n",
        "chebyshev_matrix, chebyshev_matrix_N = [], []\n",
        "chi_sq_matrix, chi_sq_matrix_N = [], []\n",
        "cosine_matrix, cosine_matrix_N = [], []\n",
        "correlation_matrix, correlation_matrix_N = [], []\n",
        "\n",
        "for x, xn in zip(X_test, X_test_N):\n",
        "  # manhattan distance\n",
        "  manhattan_matrix.append(manhattan(x, X_test))\n",
        "  manhattan_matrix_N.append(manhattan(xn, X_test_N))\n",
        "  # euclidean distance\n",
        "  euclidean_matrix.append(euclidean(x, X_test))\n",
        "  euclidean_matrix_N.append(euclidean(xn, X_test_N))\n",
        "  # chebyshev distance\n",
        "  chebyshev_matrix.append(chebyshev(x, X_test))\n",
        "  chebyshev_matrix_N.append(chebyshev(xn, X_test_N))\n",
        "  # chi-square distance\n",
        "  chi_sq_matrix.append(chiSq(x, X_test))\n",
        "  chi_sq_matrix_N.append(chiSq(xn, X_test_N))\n",
        "  # cosine distance \n",
        "  cosine_matrix.append(cosine(x, X_test))\n",
        "  cosine_matrix_N.append(cosine(xn, X_test_N))\n",
        "  # correlation distance\n",
        "  correlation_matrix.append(correlation(x, X_test))\n",
        "  correlation_matrix_N.append(correlation(xn, X_test_N))\n"
      ],
      "execution_count": 0,
      "outputs": []
    },
    {
      "cell_type": "code",
      "metadata": {
        "id": "fc2r1bFpht_t",
        "colab_type": "code",
        "colab": {}
      },
      "source": [
        "chi = []\n",
        "for img, label in zip(X_test, y_test):\n",
        "  chisq = chisquare(img, X_test[0])\n",
        "  chi.append((chisq, label))\n",
        "chi"
      ],
      "execution_count": 0,
      "outputs": []
    },
    {
      "cell_type": "code",
      "metadata": {
        "id": "dZzF6KmNQJ_u",
        "colab_type": "code",
        "colab": {}
      },
      "source": [
        "ordered_manhattan, ordered_manhattan_N = [], []\n",
        "ordered_euclidean, ordered_euclidean_N = [], []\n",
        "ordered_chebyshev, ordered_chebyshev_N = [], []\n",
        "ordered_chi, ordered_chi_N = [], []\n",
        "ordered_cosine, ordered_cosine_N = [], []\n",
        "ordered_correlation, ordered_correlation_N = [], []\n",
        "\n",
        "# original\n",
        "for man, euc, chb, chi, cos, cor in zip(manhattan_matrix, euclidean_matrix, chebyshev_matrix, chi_sq_matrix, cosine_matrix, correlation_matrix):\n",
        "  ordered_manhattan.append(sorted(man))\n",
        "  ordered_euclidean.append(sorted(euc))\n",
        "  ordered_chebyshev.append(sorted(chb))\n",
        "  ordered_chi.append(sorted(chi))\n",
        "  ordered_cosine.append(sorted(cos))\n",
        "  ordered_correlation.append(sorted(cor))\n",
        "\n",
        "# normalised\n",
        "for man, euc, chb, chi, cos, cor in zip(manhattan_matrix_N, euclidean_matrix_N, chebyshev_matrix_N, chi_sq_matrix_N, cosine_matrix_N, correlation_matrix_N):\n",
        "  ordered_manhattan_N.append(sorted(man))\n",
        "  ordered_euclidean_N.append(sorted(euc))\n",
        "  ordered_chebyshev_N.append(sorted(chb))\n",
        "  ordered_chi_N.append(sorted(chi))\n",
        "  ordered_cosine_N.append(sorted(cos))\n",
        "  ordered_correlation_N.append(sorted(cor))"
      ],
      "execution_count": 0,
      "outputs": []
    },
    {
      "cell_type": "code",
      "metadata": {
        "id": "j1NSvC1BVy9h",
        "colab_type": "code",
        "colab": {}
      },
      "source": [
        "# Calculate rank1 and rank10 \n",
        "\n",
        "manhattan_rank1, manhattan_rank10 = calculateRank(ordered_manhattan)\n",
        "manhattan_n_rank1, manhattan_n_rank10 = calculateRank(ordered_manhattan_N)\n",
        "\n",
        "euclidean_rank1, euclidean_rank10 = calculateRank(ordered_euclidean)\n",
        "euclidean_n_rank1, euclidean_n_rank10 = calculateRank(ordered_euclidean_N)\n",
        "\n",
        "chebyshev_rank1, chebyshev_rank10 = calculateRank(ordered_chebyshev)\n",
        "chebyshev_n_rank1, chebyshev_n_rank10 = calculateRank(ordered_chebyshev_N)\n",
        "\n",
        "chi_rank1, chi_rank10 = calculateRank(ordered_chi)\n",
        "chi_n_rank1, chi_n_rank10 = calculateRank(ordered_chi_N)\n",
        "\n",
        "cosine_rank1, cosine_rank10 = calculateRank(ordered_cosine)\n",
        "cosine_n_rank1, cosine_n_rank10 = calculateRank(ordered_cosine_N)\n",
        "\n",
        "correlation_rank1, correlation_rank10 = calculateRank(ordered_correlation)\n",
        "correlation_n_rank1, correlation_n_rank10 = calculateRank(ordered_correlation_N)"
      ],
      "execution_count": 0,
      "outputs": []
    },
    {
      "cell_type": "code",
      "metadata": {
        "id": "g4nNFJJdefXP",
        "colab_type": "code",
        "colab": {}
      },
      "source": [
        "print(\"Manhattan: rank1 = {:.2f} rank10 = {:.2f}\".format(manhattan_rank1, manhattan_rank10))\n",
        "print(\"Manhattan normalised: rank1 = {:.2f} rank10 = {:.2f}\".format(manhattan_n_rank1, manhattan_n_rank10))\n",
        "print('')\n",
        "print(\"Euclidean: rank1 = {:.2f} rank10 = {:.2f}\".format(euclidean_rank1, euclidean_rank10))\n",
        "print(\"Euclidean normalised: rank1 = {:.2f} rank10 = {:.2f}\".format(euclidean_n_rank1, euclidean_n_rank10))\n",
        "print('')\n",
        "print(\"Chebyshev: rank1 = {:.2f} rank10 = {:.2f}\".format(chebyshev_rank1, chebyshev_rank10))\n",
        "print(\"Chebyshev normalised: rank1 = {:.2f} rank10 = {:.2f}\".format(chebyshev_n_rank1, chebyshev_n_rank10))\n",
        "print('')\n",
        "print(\"Chi squared: rank1 = {:.2f} rank10 = {:.2f}\".format(chi_rank1, chi_rank10))\n",
        "print(\"Chi squared normalised: rank1 = {:.2f} rank10 = {:.2f}\".format(chi_n_rank1, chi_n_rank10))\n",
        "print('')\n",
        "print(\"Cosine: rank1 = {:.2f} rank10 = {:.2f}\".format(cosine_rank1, cosine_rank10))\n",
        "print(\"Cosine normalised: rank1 = {:.2f} rank10 = {:.2f}\".format(cosine_n_rank1, cosine_n_rank10))\n",
        "print('')\n",
        "print(\"Correlation: rank1 = {:.2f} rank10 = {:.2f}\".format(correlation_rank1, correlation_rank10))\n",
        "print(\"Correlation normalised: rank1 = {:.2f} rank10 = {:.2f}\".format(correlation_n_rank1, correlation_n_rank10))"
      ],
      "execution_count": 0,
      "outputs": []
    },
    {
      "cell_type": "code",
      "metadata": {
        "id": "g6ogzV5WuWxS",
        "colab_type": "code",
        "colab": {}
      },
      "source": [
        "# Draw mAP\n",
        "\n",
        "manhattan_map = calculateMAP(ordered_manhattan)\n",
        "manhattan_n_map = calculateMAP(ordered_manhattan_N)\n",
        "\n",
        "euclidean_map = calculateMAP(ordered_euclidean)\n",
        "euclidean_n_map = calculateMAP(ordered_euclidean_N)\n",
        "\n",
        "chebyshev_map = calculateMAP(ordered_chebyshev)\n",
        "chebyshev_n_map = calculateMAP(ordered_chebyshev_N)\n",
        "\n",
        "chi_map = calculateMAP(ordered_chi)\n",
        "chi_n_map = calculateMAP(ordered_chi_N)\n",
        "\n",
        "cosine_map = calculateMAP(ordered_cosine)\n",
        "cosine_n_map = calculateMAP(ordered_cosine_N)\n",
        "\n",
        "correlation_map = calculateMAP(ordered_correlation)\n",
        "correlation_n_map = calculateMAP(ordered_correlation_N)\n",
        "\n",
        "# Calculate numerical mAP\n",
        "manhattan_map_value = numericalMAP(manhattan_map)\n",
        "manhattan_n_map_value = numericalMAP(manhattan_n_map)\n",
        "\n",
        "euclidean_map_value = numericalMAP(euclidean_map)\n",
        "euclidean_n_map_value = numericalMAP(euclidean_n_map)\n",
        "\n",
        "chebyshev_map_value = numericalMAP(chebyshev_map)\n",
        "chebyshev_n_map_value = numericalMAP(chebyshev_n_map)\n",
        "\n",
        "chi_map_value = numericalMAP(chi_map)\n",
        "chi_n_map_value = numericalMAP(chi_n_map)\n",
        "\n",
        "cosine_map_value = numericalMAP(cosine_map)\n",
        "cosine_n_map_value = numericalMAP(cosine_n_map)\n",
        "\n",
        "correlation_map_value = numericalMAP(correlation_map)\n",
        "correlation_n_map_value = numericalMAP(correlation_n_map)"
      ],
      "execution_count": 0,
      "outputs": []
    },
    {
      "cell_type": "code",
      "metadata": {
        "id": "TjgM0ABB3iyq",
        "colab_type": "code",
        "outputId": "5a2d0af5-222a-4b9f-f88c-7750ca0be295",
        "colab": {
          "base_uri": "https://localhost:8080/"
        }
      },
      "source": [
        "YX = correlation_map[33].values()\n",
        "X, Y = [], []\n",
        "for yx in YX:\n",
        "  X.append(yx[1])\n",
        "  Y.append(yx[0])\n",
        "plt.title(\"Precision against recall value for Correlation distance (sample 18)\")\n",
        "plt.xlabel(\"Recall\")\n",
        "plt.ylabel(\"Precision\")\n",
        "plt.plot(X, Y, 'g')\n",
        "plt.show()"
      ],
      "execution_count": 0,
      "outputs": [
        {
          "output_type": "display_data",
          "data": {
            "image/png": "[encoded data removed]",
            "text/plain": [
              "<Figure size 432x288 with 1 Axes>"
            ]
          },
          "metadata": {
            "tags": []
          }
        }
      ]
    },
    {
      "cell_type": "code",
      "metadata": {
        "id": "ff-ZF3fH-WTj",
        "colab_type": "code",
        "colab": {}
      },
      "source": [
        "# mAP numerical values\n",
        "print('Manhattan: {}'.format(manhattan_map_value))\n",
        "print('Manhattan normalised: {}'.format(manhattan_n_map_value))\n",
        "print('')\n",
        "print('Euclidean: {}'.format(euclidean_map_value))\n",
        "print('Euclidean normalised: {}'.format(euclidean_n_map_value))\n",
        "print('')\n",
        "print('Chebyshev: {}'.format(chebyshev_map_value))\n",
        "print('Chebyshev normalised: {}'.format(chebyshev_n_map_value))\n",
        "print('')\n",
        "print('Chi squared: {}'.format(chi_map_value))\n",
        "print('Chi squared normalised: {}'.format(chi_n_map_value))\n",
        "print('')\n",
        "print('Cosine: {}'.format(cosine_map_value))\n",
        "print('Cosine normalised: {}'.format(cosine_n_map_value))\n",
        "print('')\n",
        "print('Correlation: {}'.format(correlation_map_value))\n",
        "print('Correlation normalised: {}'.format(correlation_n_map_value))"
      ],
      "execution_count": 0,
      "outputs": []
    },
    {
      "cell_type": "code",
      "metadata": {
        "id": "NBKyqw-A8h79",
        "colab_type": "code",
        "colab": {}
      },
      "source": [
        ""
      ],
      "execution_count": 0,
      "outputs": []
    },
    {
      "cell_type": "markdown",
      "metadata": {
        "id": "EJBxjujWAeJj",
        "colab_type": "text"
      },
      "source": [
        "### Experiment 1\n",
        "\n",
        "Implement histogram of pixel intensities as the feature representa- tions (consider different ways of choosing bins or quantities different than pixel intensities) and use standard non-learned distance metrics discussed in the lecture to evaluate the performance."
      ]
    },
    {
      "cell_type": "code",
      "metadata": {
        "id": "gZr_w-5bEPd8",
        "colab_type": "code",
        "colab": {}
      },
      "source": [
        "def histogram(img, bins):\n",
        "  hist = cv2.calcHist([img], [0], None, [bins], [0, 256])\n",
        "  # hist = cv2.normalize(hist, hist).flatten()\n",
        "  return hist.flatten()\n",
        "\n",
        "def histogramDistance(H1, histograms, method, y=y_test):\n",
        "  distance = []\n",
        "  for H2, label in zip(histograms, y):\n",
        "    distance.append((cv2.compareHist(H1, H2, method), label))\n",
        "  return distance"
      ],
      "execution_count": 0,
      "outputs": []
    },
    {
      "cell_type": "code",
      "metadata": {
        "id": "99pQIOLbE7Bw",
        "colab_type": "code",
        "colab": {}
      },
      "source": [
        "# calculate histogram images\n",
        "hist_test = []\n",
        "for img in X_test:\n",
        "  hist_test.append(histogram(img, bins=50))\n",
        "hist_test = np.array(hist_test)"
      ],
      "execution_count": 0,
      "outputs": []
    },
    {
      "cell_type": "code",
      "metadata": {
        "id": "FfJd86F_JFYt",
        "colab_type": "code",
        "outputId": "e12acec6-75b0-4f7a-bdfa-44a75cb7fde6",
        "colab": {
          "base_uri": "https://localhost:8080/",
          "height": 295
        }
      },
      "source": [
        "# plot histogram\n",
        "color = ('b','g','r')\n",
        "leyenda = ('X_test[0]', 'X_test[1]', 'X_test[2]')\n",
        "for img,col in zip(X_test[:3], color):\n",
        "    # histr = cv2.calcHist([img],[0],None,[256],[0,256])\n",
        "    # histr = cv2.normalize(histr, histr).flatten()\n",
        "    num_bins = 20\n",
        "    plt.hist([img], num_bins, color = col)\n",
        "    # plt.xlim([0,256])\n",
        "plt.xlabel('Value')\n",
        "plt.ylabel('Frequency')\n",
        "plt.title('Histogram of 3 test images with bin number {}'.format(num_bins))\n",
        "plt.legend(leyenda)\n",
        "plt.show()"
      ],
      "execution_count": 0,
      "outputs": [
        {
          "output_type": "display_data",
          "data": {
            "image/png": "[encoded data removed]",
            "text/plain": [
              "<Figure size 432x288 with 1 Axes>"
            ]
          },
          "metadata": {
            "tags": []
          }
        }
      ]
    },
    {
      "cell_type": "code",
      "metadata": {
        "id": "Clo18ehnGPu3",
        "colab_type": "code",
        "colab": {}
      },
      "source": [
        "# CALCULATE DISTANCES\n",
        "bhattacharyya_hist_matrix = []\n",
        "intersection_hist_matrix = []\n",
        "chi_sq_hist_matrix = []\n",
        "correlation_hist_matrix = []\n",
        "\n",
        "for H1 in hist_test:\n",
        "  # intersection distance\n",
        "  intersection_hist_matrix.append(histogramDistance(H1, hist_test, cv2.HISTCMP_INTERSECT))\n",
        "  # Bhattacharyya distance\n",
        "  bhattacharyya_hist_matrix.append(histogramDistance(H1, hist_test, cv2.HISTCMP_BHATTACHARYYA))\n",
        "  # chi-square distance\n",
        "  chi_sq_hist_matrix.append(histogramDistance(H1, hist_test, cv2.HISTCMP_CHISQR))\n",
        "  # correlation distance\n",
        "  correlation_hist_matrix.append(histogramDistance(H1, hist_test, cv2.HISTCMP_CORREL))\n",
        "\n",
        "# ORDER DISTANCES\n",
        "ordered_bhattacharyya_hist_matrix = []\n",
        "ordered_intersection_hist_matrix = []\n",
        "ordered_chi_sq_hist_matrix = []\n",
        "ordered_correlation_hist_matrix = []\n",
        "\n",
        "# original\n",
        "for bha, inter, chi, cor in zip(bhattacharyya_hist_matrix, intersection_hist_matrix, chi_sq_hist_matrix, correlation_hist_matrix):\n",
        "  ordered_bhattacharyya_hist_matrix.append(sorted(bha))\n",
        "  ordered_intersection_hist_matrix.append(sorted(inter))\n",
        "  ordered_chi_sq_hist_matrix.append(sorted(chi))\n",
        "  ordered_correlation_hist_matrix.append(sorted(cor))\n"
      ],
      "execution_count": 0,
      "outputs": []
    },
    {
      "cell_type": "code",
      "metadata": {
        "id": "ZaAS2ohHH5QD",
        "colab_type": "code",
        "colab": {}
      },
      "source": [
        "# Calculate HIST rank1 and rank10 \n",
        "\n",
        "intersection_hist_rank1, intersection_hist_rank10 = calculateRank(ordered_intersection_hist_matrix)\n",
        "bhattacharyya_hist_rank1, bhattacharyya_hist_rank10 = calculateRank(ordered_bhattacharyya_hist_matrix)\n",
        "chi_hist_rank1, chi_hist_rank10 = calculateRank(ordered_chi_sq_hist_matrix)\n",
        "correlation_hist_rank1, correlation_hist_rank10 = calculateRank(ordered_correlation_hist_matrix)\n",
        "\n",
        "print(\"Intersection: rank1 = {:.2f} rank10 = {:.2f}\".format(intersection_hist_rank1, intersection_hist_rank10))\n",
        "print('')\n",
        "print(\"Bhattacharyya: rank1 = {:.2f} rank10 = {:.2f}\".format(bhattacharyya_hist_rank1, bhattacharyya_hist_rank10))\n",
        "print('')\n",
        "print(\"Chi squared: rank1 = {:.2f} rank10 = {:.2f}\".format(chi_hist_rank1, chi_hist_rank10))\n",
        "print('')\n",
        "print(\"Correlation: rank1 = {:.2f} rank10 = {:.2f}\".format(correlation_hist_rank1, correlation_hist_rank10))"
      ],
      "execution_count": 0,
      "outputs": []
    },
    {
      "cell_type": "code",
      "metadata": {
        "id": "n_DXjUlFOB81",
        "colab_type": "code",
        "colab": {}
      },
      "source": [
        "# Draw mAP\n",
        "\n",
        "bhattacharyya_hist_map = calculateMAP(ordered_bhattacharyya_hist_matrix)\n",
        "intersection_hist_map = calculateMAP(ordered_intersection_hist_matrix)\n",
        "chi_hist_map = calculateMAP(ordered_chi_sq_hist_matrix)\n",
        "correlation_hist_map = calculateMAP(ordered_correlation_hist_matrix)\n",
        "\n",
        "# Calculate numerical mAP\n",
        "bhattacharyya_hist_map_value = numericalMAP(bhattacharyya_hist_map)\n",
        "intersection_hist_map_value = numericalMAP(intersection_hist_map)\n",
        "chi_hist_map_value = numericalMAP(chi_hist_map)\n",
        "correlation_hist_map_value = numericalMAP(correlation_hist_map)\n",
        "\n",
        "# mAP numerical values\n",
        "print('Bhattacharyya: {}'.format(bhattacharyya_hist_map_value))\n",
        "print('')\n",
        "print('Intersection: {}'.format(intersection_hist_map_value))\n",
        "print('')\n",
        "print('Chi squared: {}'.format(chi_hist_map_value))\n",
        "print('')\n",
        "print('Correlation: {}'.format(correlation_hist_map_value))"
      ],
      "execution_count": 0,
      "outputs": []
    },
    {
      "cell_type": "markdown",
      "metadata": {
        "id": "IklgvheClO3E",
        "colab_type": "text"
      },
      "source": [
        "### Experiment 2\n",
        "\n",
        "Implement Mahalanobis distance metric by calculating covariance matrix on the training split of features in A and report the performance by applying it to the test split. Use it to reduce the dimensionality to {16,32,64,128,256}"
      ]
    },
    {
      "cell_type": "code",
      "metadata": {
        "id": "4lV4uCM47OKV",
        "colab_type": "code",
        "colab": {}
      },
      "source": [
        "def normalise(matrix):\n",
        "  mm = []\n",
        "  for m in matrix:\n",
        "    mm.append(np.real(m))\n",
        "  mat = np.array(mm)\n",
        "\n",
        "  return normalize(mat, axis=0, norm='l1')"
      ],
      "execution_count": 0,
      "outputs": []
    },
    {
      "cell_type": "code",
      "metadata": {
        "id": "1Rx065Gy3ufd",
        "colab_type": "code",
        "colab": {}
      },
      "source": [
        "N, px = X_train.shape\n",
        "# average faces\n",
        "mean = np.zeros(px)\n",
        "for face in X_train:\n",
        "  mean += face\n",
        "  \n",
        "mean = 1/N*mean"
      ],
      "execution_count": 0,
      "outputs": []
    },
    {
      "cell_type": "code",
      "metadata": {
        "id": "9R5EpbuW5AVA",
        "colab_type": "code",
        "colab": {}
      },
      "source": [
        "A = [X_train[i] - mean for i in range(N)]\n",
        "A = np.array(A)\n",
        "A = A.T\n",
        "S_A = 1/N*A.dot(A.T)"
      ],
      "execution_count": 0,
      "outputs": []
    },
    {
      "cell_type": "code",
      "metadata": {
        "id": "IcVh5X5755Vi",
        "colab_type": "code",
        "colab": {}
      },
      "source": [
        "# normalise the face\n",
        "face_avg = np.array(mean).reshape(2576, 1)\n",
        "face_avg = normalize(face_avg, axis=0, norm='l1')\n",
        "mean_N = np.concatenate(face_avg.T)"
      ],
      "execution_count": 0,
      "outputs": []
    },
    {
      "cell_type": "code",
      "metadata": {
        "id": "JnD-rchQ6Kct",
        "colab_type": "code",
        "colab": {}
      },
      "source": [
        "# Eigenvectors\n",
        "og_eval, og_evec = np.linalg.eig(S_A)"
      ],
      "execution_count": 0,
      "outputs": []
    },
    {
      "cell_type": "code",
      "metadata": {
        "id": "7szxOUE06TrS",
        "colab_type": "code",
        "colab": {}
      },
      "source": [
        "dimensions = 256\n",
        "\n",
        "evecs = og_evec.T[:dimensions]\n",
        "evals = np.real(og_eval.T[:dimensions])\n",
        "\n",
        "evec_N = normalise(evecs)"
      ],
      "execution_count": 0,
      "outputs": []
    },
    {
      "cell_type": "code",
      "metadata": {
        "id": "_oHi3qLJ8l5C",
        "colab_type": "code",
        "colab": {}
      },
      "source": [
        "w = A.T.dot(evec_N.T)"
      ],
      "execution_count": 0,
      "outputs": []
    },
    {
      "cell_type": "code",
      "metadata": {
        "id": "Exx5NCKKnQW5",
        "colab_type": "code",
        "colab": {}
      },
      "source": [
        "def decomposition(evals, evecs, dimensionality):\n",
        "  evals_sqr = np.array([sqrt(eigen_val) for eigen_val in evals])\n",
        "  diagonal = np.diag(evals_sqr)\n",
        "  G = diagonal.dot(evecs)\n",
        "  return G\n",
        "\n",
        "def mahalanobis(u, X, G, y=y_test, normalised=False):\n",
        "  mahalanobis = []\n",
        "  for img, label in zip(X, y):\n",
        "      mahalanobis.append((ssd.euclidean(G.dot(img), G.dot(u)), label))\n",
        "  return mahalanobis"
      ],
      "execution_count": 0,
      "outputs": []
    },
    {
      "cell_type": "code",
      "metadata": {
        "id": "GWYdmS7tlWYf",
        "colab_type": "code",
        "colab": {}
      },
      "source": [
        "mahalanobis_matrix, mahalanobis_matrix_N = [], []\n",
        "\n",
        "G = decomposition(evals, evecs, dimensionality=256) \n",
        "\n",
        "for x, xn in zip(X_test, X_test_N):\n",
        "  # mahalanobis distance\n",
        "  mahalanobis_matrix.append(mahalanobis(x, X_test, G))\n",
        "  mahalanobis_matrix_N.append(mahalanobis(xn, X_test_N, G))"
      ],
      "execution_count": 0,
      "outputs": []
    },
    {
      "cell_type": "code",
      "metadata": {
        "id": "soTKhMpnpAOj",
        "colab_type": "code",
        "colab": {}
      },
      "source": [
        "ordered_mah, ordered_mah_N = [], []\n",
        "for mah, mah_n in zip(mahalanobis_matrix, mahalanobis_matrix_N):\n",
        "  ordered_mah.append(sorted(mah))\n",
        "  ordered_mah_N.append(sorted(mah_n))\n",
        "\n",
        "mahalanobis_rank1, mahalanobis_rank10 = calculateRank(ordered_mah)\n",
        "mahalanobis_N_rank1, mahalanobis_N_rank10 = calculateRank(ordered_mah_N)\n",
        "\n",
        "print(mahalanobis_rank1, mahalanobis_rank10)\n",
        "print(mahalanobis_N_rank1, mahalanobis_N_rank10)"
      ],
      "execution_count": 0,
      "outputs": []
    }
  ]
}