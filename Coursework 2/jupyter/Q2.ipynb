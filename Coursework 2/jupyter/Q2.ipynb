{
  "nbformat": 4,
  "nbformat_minor": 0,
  "metadata": {
    "colab": {
      "name": "PR_cw2_Q2.ipynb",
      "provenance": [],
      "collapsed_sections": [
        "kBuwb6LWmqLX"
      ]
    },
    "kernelspec": {
      "name": "python3",
      "display_name": "Python 3"
    }
  },
  "cells": [
    {
      "cell_type": "code",
      "metadata": {
        "id": "YoIsCc-dHC5X",
        "colab_type": "code",
        "colab": {}
      },
      "source": [
        "import numpy as np\n",
        "import matplotlib.pyplot as plt\n",
        "import scipy.io as sio\n",
        "import seaborn as sns\n",
        "import sklearn.cluster as cluster\n",
        "import time\n",
        "from sklearn.preprocessing import normalize\n",
        "import scipy.spatial.distance as ssd\n",
        "from scipy.optimize import linear_sum_assignment\n",
        "import pandas as pd\n",
        "import munkres\n",
        "from sklearn.cluster import KMeans, AgglomerativeClustering\n",
        "from sklearn.mixture import GaussianMixture\n",
        "import math"
      ],
      "execution_count": 0,
      "outputs": []
    },
    {
      "cell_type": "code",
      "metadata": {
        "id": "Q_66SwvlJBrE",
        "colab_type": "code",
        "colab": {}
      },
      "source": [
        "from google.colab import drive\n",
        "drive.mount('/content/drive')\n",
        "data = \"/content/drive/My Drive/Colab Notebooks/face.mat\""
      ],
      "execution_count": 0,
      "outputs": []
    },
    {
      "cell_type": "code",
      "metadata": {
        "id": "h71cQtDaJ6AT",
        "colab_type": "code",
        "colab": {}
      },
      "source": [
        "faces = sio.loadmat(data)\n",
        "X, y = [], []\n",
        "for i in range(53):\n",
        "  face_i = faces['X'][:, 10*i:10*(i+1)]\n",
        "  label_i = faces['l'][:, 10*i:10*(i+1)]\n",
        "  X.append(face_i.T)\n",
        "  y.append(label_i.T)\n",
        "X = np.concatenate(X)\n",
        "X = np.array(X)\n",
        "y = np.concatenate(y)\n",
        "y = np.concatenate(y)"
      ],
      "execution_count": 0,
      "outputs": []
    },
    {
      "cell_type": "code",
      "metadata": {
        "id": "Qx35YfxPKCaQ",
        "colab_type": "code",
        "colab": {}
      },
      "source": [
        "X_train, X_test, y_train, y_test = [], [], [], []\n",
        "# train\n",
        "for i in range(32):\n",
        "    face_i = faces['X'][:, 10*i:10*(i+1)]\n",
        "    label_i = faces['l'][:, 10*i:10*(i+1)]\n",
        "  \n",
        "    X_train.append(face_i.T)\n",
        "    y_train.append(label_i.T)\n",
        "#  test\n",
        "for i in range(32, 53):\n",
        "    face_i = faces['X'][:, 10*i:10*(i+1)]\n",
        "    label_i = faces['l'][:, 10*i:10*(i+1)]\n",
        "    X_test.append(face_i.T)\n",
        "    y_test.append(label_i.T) "
      ],
      "execution_count": 0,
      "outputs": []
    },
    {
      "cell_type": "code",
      "metadata": {
        "id": "yXP6_eTEMcj5",
        "colab_type": "code",
        "colab": {}
      },
      "source": [
        "X_train = np.concatenate(X_train)\n",
        "X_test = np.concatenate(X_test)\n",
        "y_train = np.concatenate(y_train)\n",
        "y_test = np.concatenate(y_test)\n",
        "\n",
        "X_train = np.array(X_train)\n",
        "X_test = np.array(X_test)\n",
        "y_train = np.array(y_train)\n",
        "y_test = np.array(y_test)"
      ],
      "execution_count": 0,
      "outputs": []
    },
    {
      "cell_type": "code",
      "metadata": {
        "id": "K4xmPA7aRFdN",
        "colab_type": "code",
        "colab": {}
      },
      "source": [
        "X_train_N = normalize(X_train, axis=1, norm='l2')\n",
        "X_test_N = normalize(X_test, axis=1, norm='l2')"
      ],
      "execution_count": 0,
      "outputs": []
    },
    {
      "cell_type": "markdown",
      "metadata": {
        "id": "P922IX0eFHFk",
        "colab_type": "text"
      },
      "source": [
        "# K-means\n",
        "\n",
        "\n",
        "\n",
        "\n",
        "\n"
      ]
    },
    {
      "cell_type": "code",
      "metadata": {
        "id": "8nKzaOiTFGq8",
        "colab_type": "code",
        "colab": {}
      },
      "source": [
        "# Number of clusters\n",
        "kmeans = KMeans(n_clusters=50, init='k-means++', n_init=100, max_iter=100000,\n",
        "                 tol=0.0001, precompute_distances=True, verbose=0,\n",
        "                 random_state=None, copy_x=True, n_jobs=1)\n",
        "# Fitting the input data\n",
        "kmeans = kmeans.fit(X_train_N)\n",
        "# Getting the cluster labels\n",
        "k_labels = kmeans.predict(X_train_N)\n",
        "# Centroid values\n",
        "centroids = kmeans.cluster_centers_"
      ],
      "execution_count": 0,
      "outputs": []
    },
    {
      "cell_type": "code",
      "metadata": {
        "id": "bZzYSDRWNPa_",
        "colab_type": "code",
        "colab": {}
      },
      "source": [
        "\"\"\"\n",
        "cost matrix represents the average euclidean distances of each centroid to each label\n",
        "cost_matrix[i][j] is the average distance of centroid [i] with images of label [j]\n",
        "\"\"\"\n",
        "\n",
        "cost_matrix = []\n",
        "for i in range(32):\n",
        "  label_cost = []\n",
        "  distance = 0\n",
        "  for centroid in centroids:\n",
        "    d = []\n",
        "    for j in range(10):\n",
        "      d.append(ssd.euclidean(X_train_N[10*i+j], centroid))\n",
        "    label_cost.append(np.average(d))\n",
        "  cost_matrix.append(label_cost)\n",
        "cost_matrix = np.array(cost_matrix)\n",
        "cost_matrix = cost_matrix.T"
      ],
      "execution_count": 0,
      "outputs": []
    },
    {
      "cell_type": "code",
      "metadata": {
        "id": "_VDdO8esqDHU",
        "colab_type": "code",
        "colab": {}
      },
      "source": [
        "# perform Hungarian algorithm on the cost_matrix\n",
        "opt_centroids, opt_labels = linear_sum_assignment(cost_matrix)\n",
        "cost_matrix[opt_centroids, opt_labels].sum()"
      ],
      "execution_count": 0,
      "outputs": []
    },
    {
      "cell_type": "code",
      "metadata": {
        "id": "vDRdVUtTrxo5",
        "colab_type": "code",
        "outputId": "8ad60669-01d5-40df-f81a-3cfae63b289b",
        "colab": {
          "base_uri": "https://localhost:8080/",
          "height": 54
        }
      },
      "source": [
        "centroids_label = dict()\n",
        "for c, l in zip(opt_centroids, opt_labels):\n",
        "  centroids_label[c] = l\n",
        "\n",
        "print(centroids_label)"
      ],
      "execution_count": 0,
      "outputs": [
        {
          "output_type": "stream",
          "text": [
            "{1: 8, 3: 4, 5: 17, 6: 1, 7: 31, 8: 9, 9: 19, 10: 11, 11: 13, 12: 29, 13: 16, 14: 0, 15: 14, 17: 18, 18: 10, 21: 23, 23: 6, 24: 15, 25: 26, 26: 27, 27: 7, 28: 2, 29: 24, 30: 30, 33: 28, 35: 12, 37: 20, 38: 21, 42: 25, 45: 3, 47: 5, 48: 22}\n"
          ],
          "name": "stdout"
        }
      ]
    },
    {
      "cell_type": "code",
      "metadata": {
        "id": "Zc6xZJP5Fb5P",
        "colab_type": "code",
        "outputId": "6db30346-b37e-4a52-aa8e-96e5b2ccd264",
        "colab": {
          "base_uri": "https://localhost:8080/",
          "height": 284
        }
      },
      "source": [
        "x = np.reshape(np.average(X_train[310:320], axis=0), (46, 56))\n",
        "plt.imshow(x.T, cmap='gist_gray')"
      ],
      "execution_count": 0,
      "outputs": [
        {
          "output_type": "execute_result",
          "data": {
            "text/plain": [
              "<matplotlib.image.AxesImage at 0x7f5caeda5f60>"
            ]
          },
          "metadata": {
            "tags": []
          },
          "execution_count": 306
        },
        {
          "output_type": "display_data",
          "data": {
            "image/png": "[encoded data removed]",
            "text/plain": [
              "<Figure size 432x288 with 1 Axes>"
            ]
          },
          "metadata": {
            "tags": []
          }
        }
      ]
    },
    {
      "cell_type": "markdown",
      "metadata": {
        "id": "EjObOEHIBv_o",
        "colab_type": "text"
      },
      "source": [
        "#  Agglomerative Clustering"
      ]
    },
    {
      "cell_type": "code",
      "metadata": {
        "id": "RkdtrMTRBvtu",
        "colab_type": "code",
        "outputId": "027c8b98-8b5c-4867-cfa0-fc421e9f6ba1",
        "colab": {
          "base_uri": "https://localhost:8080/",
          "height": 255
        }
      },
      "source": [
        "agg = AgglomerativeClustering(n_clusters=32, affinity='euclidean', linkage=\"ward\")\n",
        "# agg = AgglomerativeClustering(n_clusters=None, affinity='euclidean', linkage=\"ward\", \n",
        "#                               compute_full_tree=True, distance_threshold=0.9)\n",
        "\n",
        "agg_labels = agg.fit_predict(X_train_N)\n",
        "print(agg.labels_)"
      ],
      "execution_count": 0,
      "outputs": [
        {
          "output_type": "stream",
          "text": [
            "[14 24 14 14 14 14  1 24  1  1 10 10 10 10 22  9  2 31  2  2  3  0  6  6\n",
            "  6  6  3  3  3  3  3  0  3  3  3  3 27 27 27 27 10 22 22 22 22 22 10 10\n",
            " 10 10  8  8 17 17 20  7 29  8  8  8 20 24 20 14 20 15 20 20 20 20 10 10\n",
            " 10 22 22 22 10 10 10 10 13 13 13 13 13 13 18 18 18 18 24 24 13 14 14 14\n",
            "  1  1  1  1 24  1 15 15 15  9 29 29 29 29 13 13 13 13 13 13 18 18 18 18\n",
            " 19 19 19 19 19 19 31 31 18 31 10  0  9  9 13 13 30 30 30 30  2  2 28 17\n",
            " 28 28  2  2  2  2 10 10  9  9  9 11 31  1 31 31  8 12  7  7 15  7 29 29\n",
            "  1  1 19 31  9  9  9 26 31  1 31 26  8  8  5  5 20  0  5  8  0  5 31 31\n",
            " 31  6  6 17 26 30 30 26  5  5 17 17 17 11  5  5  5  5  0  0 13 28 15 28\n",
            "  0  0  0  1 16 16  6  6  6  6 16 16 16 16  8 24  3  3  3 20  1 23 23 23\n",
            " 12 12 11 11 11 10 30 30  1 30 12 12 15 15 15 15 25 25 25 25 12 12 11  4\n",
            " 11 11  4  4  4  4 12  1 21 21 21 21 21 21 21 21 12 12 11 11 11  7  7  7\n",
            "  7  7 12 12 15  7  7  7  7 29  7  7 12 12  4  4 21  4  4  4  4  4 19 19\n",
            "  9  9  9  9  2  2  2  2]\n"
          ],
          "name": "stdout"
        }
      ]
    },
    {
      "cell_type": "code",
      "metadata": {
        "id": "bxdUo2BfnO33",
        "colab_type": "code",
        "colab": {}
      },
      "source": [
        "from collections import defaultdict\n",
        "\n",
        "def distance(u, X):\n",
        "  distance, l = float('inf'), float('inf')\n",
        "  for label, c in X:\n",
        "    d = ssd.euclidean(u, c)\n",
        "    if d < distance:\n",
        "      distance = d\n",
        "      l = label\n",
        "  return l\n",
        "\n",
        "def calculate_new_centroids(X_train_N, agg_labels):\n",
        "  agglomerative = defaultdict(list)\n",
        "  for img, label in zip(X_train_N, agg_labels):\n",
        "    agglomerative[label].append(img)\n",
        "  centroids = []\n",
        "  for label, images in agglomerative.items():\n",
        "    centroid = np.average(images, axis=0)\n",
        "    centroids.append((label, centroid))\n",
        "  return centroids\n",
        "\n",
        "\n",
        "def calculate_new_labels(X_train_N, centroids):\n",
        "  new_labels = []\n",
        "  for xn in X_train_N:\n",
        "    label = distance(xn, centroids)\n",
        "    new_labels.append(label)\n",
        "  return new_labels\n",
        "\n",
        "def clustering(X_train_N, agg_labels):\n",
        "  new_labels = []\n",
        "  old_labels = [i+1 for i in agg_labels]\n",
        "  cont = True\n",
        "  \n",
        "  while cont:\n",
        "    centroids = calculate_new_centroids(X_train_N, old_labels)\n",
        "    new_labels = calculate_new_labels(X_train_N, centroids)\n",
        "    if old_labels != new_labels:\n",
        "      old_labels = new_labels\n",
        "    else:\n",
        "      cont = False\n",
        "  \n",
        "  return new_labels, centroids\n",
        "\n",
        "y_agg, centroids = clustering(X_train_N, agg_labels)"
      ],
      "execution_count": 0,
      "outputs": []
    },
    {
      "cell_type": "code",
      "metadata": {
        "id": "KSKqcZRvaMFD",
        "colab_type": "code",
        "colab": {}
      },
      "source": [
        "c = []\n",
        "for l, centroid in centroids:\n",
        "  c.append(centroid)\n",
        "centroids = c"
      ],
      "execution_count": 0,
      "outputs": []
    },
    {
      "cell_type": "code",
      "metadata": {
        "id": "PlF-AH0j2foE",
        "colab_type": "code",
        "outputId": "5bbc0830-b1b1-4d6a-975b-a57cdd08cf7d",
        "colab": {
          "base_uri": "https://localhost:8080/",
          "height": 284
        }
      },
      "source": [
        "x = np.reshape(centroids[10], (46, 56))\n",
        "plt.imshow(x.T, cmap='gist_gray')"
      ],
      "execution_count": 0,
      "outputs": [
        {
          "output_type": "execute_result",
          "data": {
            "text/plain": [
              "<matplotlib.image.AxesImage at 0x7f5cb0e0bb70>"
            ]
          },
          "metadata": {
            "tags": []
          },
          "execution_count": 225
        },
        {
          "output_type": "display_data",
          "data": {
            "image/png": "[encoded data removed]",
            "text/plain": [
              "<Figure size 432x288 with 1 Axes>"
            ]
          },
          "metadata": {
            "tags": []
          }
        }
      ]
    },
    {
      "cell_type": "markdown",
      "metadata": {
        "id": "dvVpxR4FdjL5",
        "colab_type": "text"
      },
      "source": [
        "# Fisher vectors"
      ]
    },
    {
      "cell_type": "markdown",
      "metadata": {
        "id": "pMcyb2Jymk1d",
        "colab_type": "text"
      },
      "source": [
        "#### Cluster distances"
      ]
    },
    {
      "cell_type": "code",
      "metadata": {
        "id": "rJJ9XKCO9vtQ",
        "colab_type": "code",
        "colab": {}
      },
      "source": [
        "# Distances\n",
        "from math import sqrt \n",
        "from sklearn.metrics.pairwise import chi2_kernel\n",
        "\n",
        "def manhattan_(u, X):\n",
        "  manhattan = []\n",
        "  for img in X:\n",
        "    manhattan.append(ssd.cityblock(u, img))\n",
        "  return manhattan\n",
        "\n",
        "def euclidean_(u, X):\n",
        "  euclidean = []\n",
        "  for  img in X:\n",
        "    euclidean.append(ssd.euclidean(u, img))\n",
        "  return euclidean\n",
        "\n",
        "def chebyshev_(u, X):\n",
        "  chebyshev = []\n",
        "  for  img in X:\n",
        "    chebyshev.append(ssd.chebyshev(u, img))\n",
        "  return chebyshev\n",
        "\n",
        "def cosine_(u, X):\n",
        "  cosine = []\n",
        "  for  img in X:\n",
        "    cosine.append(ssd.cosine(u, img))\n",
        "  return cosine\n",
        "\n",
        "def correlation_(u, X):\n",
        "  correlation = []\n",
        "  for  img in X:\n",
        "    correlation.append(ssd.correlation(u, img))\n",
        "  return correlation  "
      ],
      "execution_count": 0,
      "outputs": []
    },
    {
      "cell_type": "code",
      "metadata": {
        "id": "jnLoP5P4nyON",
        "colab_type": "code",
        "colab": {}
      },
      "source": [
        "def calculateFRank(matrix, y):\n",
        "  rank1, rank10 = 0, 0\n",
        "  for img, label in zip(matrix, y):\n",
        "    for i in range(1, 11):\n",
        "      _, predicted = img[i]\n",
        "      if predicted == label[0]:\n",
        "        rank1 = rank1 + 1 if i == 1 else rank1\n",
        "        rank10 += 1\n",
        "        break\n",
        "  rank1_pc = rank1/200*100\n",
        "  rank10_pc = rank10/200*100\n",
        "  return rank1_pc, rank10_pc"
      ],
      "execution_count": 0,
      "outputs": []
    },
    {
      "cell_type": "code",
      "metadata": {
        "id": "aGgT05kX2UUg",
        "colab_type": "code",
        "colab": {}
      },
      "source": [
        "manhattan_feature = []\n",
        "euclidean_feature = []\n",
        "chebyshev_feature = []\n",
        "cosine_feature = []\n",
        "correlation_feature = []\n",
        "\n",
        "for xn in X_test_N:\n",
        "  manhattan_feature.append(manhattan_(xn, centroids))\n",
        "  euclidean_feature.append(euclidean_(xn, centroids))\n",
        "  chebyshev_feature.append(chebyshev_(xn, centroids))\n",
        "  cosine_feature.append(cosine_(xn, centroids))\n",
        "  correlation_feature.append(correlation_(xn, centroids))"
      ],
      "execution_count": 0,
      "outputs": []
    },
    {
      "cell_type": "code",
      "metadata": {
        "id": "-nIS6Z8hfAAZ",
        "colab_type": "code",
        "colab": {}
      },
      "source": [
        "def features(manhattan_feature, euclidean_feature, chebyshev_feature, cosine_feature, correlation_feature):\n",
        "\n",
        "  manhattan_feature_distance = []\n",
        "  euclidean_feature_distance = []\n",
        "  chebyshev_feature_distance = []\n",
        "  cosine_feature_distance = []\n",
        "  correlation_feature_distance = []\n",
        "  for man, euc, chb, cos, cor in zip(manhattan_feature, \n",
        "                                      euclidean_feature, \n",
        "                                      chebyshev_feature, \n",
        "                                      cosine_feature,\n",
        "                                      correlation_feature):\n",
        "      manhattan_feature_distance.append(manhattan(man, manhattan_feature, y=y_test))\n",
        "      euclidean_feature_distance.append(euclidean(euc, euclidean_feature, y=y_test))\n",
        "      chebyshev_feature_distance.append(chebyshev(chb, chebyshev_feature, y=y_test))\n",
        "      cosine_feature_distance.append(cosine(cos, cosine_feature, y=y_test))\n",
        "      correlation_feature_distance.append(correlation(cor, correlation_feature, y=y_test))\n",
        "\n",
        "\n",
        "\n",
        "  ordered_manhattan_feature = []\n",
        "  ordered_euclidean_feature = []\n",
        "  ordered_chebyshev_feature = []\n",
        "  ordered_cosine_feature = []\n",
        "  ordered_correlation_feature = []\n",
        "  for man, euc, chb, cos, cor in zip(manhattan_feature_distance, \n",
        "                                      euclidean_feature_distance, \n",
        "                                      chebyshev_feature_distance, \n",
        "                                      cosine_feature_distance,\n",
        "                                      correlation_feature_distance):\n",
        "    ordered_manhattan_feature.append(sorted(man))\n",
        "    ordered_euclidean_feature.append(sorted(euc))\n",
        "    ordered_chebyshev_feature.append(sorted(chb))\n",
        "    ordered_cosine_feature.append(sorted(cos))\n",
        "    ordered_correlation_feature.append(sorted(cor))\n",
        "\n",
        "  return ordered_manhattan_feature, ordered_euclidean_feature, ordered_chebyshev_feature, ordered_cosine_feature, ordered_correlation_feature\n",
        "\n"
      ],
      "execution_count": 0,
      "outputs": []
    },
    {
      "cell_type": "code",
      "metadata": {
        "id": "F_3VQhRIm5DU",
        "colab_type": "code",
        "colab": {}
      },
      "source": [
        "ordered_manhattan_feature, ordered_euclidean_feature, ordered_chebyshev_feature, ordered_cosine_feature, ordered_correlation_feature = features(manhattan_feature, \n",
        "                                                                                                                                                euclidean_feature, \n",
        "                                                                                                                                                chebyshev_feature, \n",
        "                                                                                                                                                cosine_feature, \n",
        "                                                                                                                                                correlation_feature)\n",
        "\n",
        "\n",
        "manhattan_f_rank1, manhattan_f_rank10 = calculateFRank(ordered_manhattan_feature, y_test)\n",
        "euclidean_f_rank1, euclidean_f_rank10 = calculateFRank(ordered_euclidean_feature, y_test)\n",
        "chebyshev_f_rank1, chebyshev_f_rank10 = calculateFRank(ordered_chebyshev_feature, y_test)\n",
        "cosine_f_rank1, cosine_f_rank10 = calculateFRank(ordered_cosine_feature, y_test)\n",
        "correlation_f_rank1, correlation_f_rank10 = calculateFRank(ordered_correlation_feature, y_test)"
      ],
      "execution_count": 0,
      "outputs": []
    },
    {
      "cell_type": "code",
      "metadata": {
        "id": "K1DNXS5Xn7GN",
        "colab_type": "code",
        "colab": {}
      },
      "source": [
        "print(manhattan_f_rank1, manhattan_f_rank10)\n",
        "print(euclidean_f_rank1, euclidean_f_rank10)\n",
        "print(chebyshev_f_rank1, chebyshev_f_rank10)\n",
        "print(cosine_f_rank1, cosine_f_rank10)\n",
        "print(correlation_f_rank1, correlation_f_rank10)"
      ],
      "execution_count": 0,
      "outputs": []
    },
    {
      "cell_type": "code",
      "metadata": {
        "id": "in4puC2ahga9",
        "colab_type": "code",
        "colab": {}
      },
      "source": [
        "manhattan_f_map = numericalMAP(calculateMAP(ordered_manhattan_feature, y_test))\n",
        "euclidean_f_map = numericalMAP(calculateMAP(ordered_euclidean_feature, y_test))\n",
        "chebyshev_f_map = numericalMAP(calculateMAP(ordered_chebyshev_feature, y_test))\n",
        "cosine_f_map = numericalMAP(calculateMAP(ordered_cosine_feature, y_test))\n",
        "correlation_f_map = numericalMAP(calculateMAP(ordered_correlation_feature, y_test))"
      ],
      "execution_count": 0,
      "outputs": []
    },
    {
      "cell_type": "code",
      "metadata": {
        "id": "22bNU0G-h6GG",
        "colab_type": "code",
        "colab": {}
      },
      "source": [
        "print(manhattan_f_map)\n",
        "print(euclidean_f_map)\n",
        "print(chebyshev_f_map)\n",
        "print(cosine_f_map)\n",
        "print(correlation_f_map)"
      ],
      "execution_count": 0,
      "outputs": []
    },
    {
      "cell_type": "code",
      "metadata": {
        "id": "jESde3MM1Y7Z",
        "colab_type": "code",
        "outputId": "e3e7896f-c526-4541-c632-f727c1d12548",
        "colab": {
          "base_uri": "https://localhost:8080/",
          "height": 295
        }
      },
      "source": [
        "K = [1, 2, 5, 10, 25, 32, 35, 45, 50]\n",
        "\n",
        "man = [0.1311, 0.1664, 0.2326, 0.2747, 0.3032, 0.3292, 0.3379, 0.3149, 0.3030]\n",
        "euc = [0.1100, 0.1457, 0.2116, 0.2548, 0.2852, 0.3060, 0.2999, 0.2981, 0.2900]\n",
        "chb = [0.0987, 0.1317, 0.1627, 0.1861, 0.2027, 0.2510, 0.2338, 0.2097, 0.1704]\n",
        "cos = [0.0516, 0.1180, 0.2118, 0.2751, 0.3090, 0.3171, 0.3200, 0.3101, 0.3030]\n",
        "cor = [0.0472, 0.0534, 0.2025, 0.2565, 0.3061, 0.3109, 0.3134, 0.3085, 0.3030]\n",
        "\n",
        "leyenda = ['Manhattan', 'Euclidean', 'Chebyshev', 'Cosine', 'Correlation']\n",
        "plt.plot(K, man, marker='o', color='olive')\n",
        "plt.plot(K, euc, marker='o', color='red')\n",
        "plt.plot(K, chb, marker='o', color='black')\n",
        "plt.plot(K, cos, marker='o', color='blue')\n",
        "plt.plot(K, cor, marker='o', color='yellow')\n",
        "plt.xlabel('K')\n",
        "plt.ylabel('mean Average Precision')\n",
        "plt.title('mAP vs. cluster number K')\n",
        "plt.legend(leyenda)\n",
        "plt.grid()\n",
        "plt.show()\n",
        "\n"
      ],
      "execution_count": 0,
      "outputs": [
        {
          "output_type": "display_data",
          "data": {
            "image/png": "[encoded data removed]",
            "text/plain": [
              "<Figure size 432x288 with 1 Axes>"
            ]
          },
          "metadata": {
            "tags": []
          }
        }
      ]
    },
    {
      "cell_type": "markdown",
      "metadata": {
        "id": "gY0m-jHXimNK",
        "colab_type": "text"
      },
      "source": [
        "#### Fishing"
      ]
    },
    {
      "cell_type": "code",
      "metadata": {
        "id": "SMYoUB91ipgk",
        "colab_type": "code",
        "colab": {}
      },
      "source": [
        "def calcInverseCovariance(cluster):\n",
        "  return 1/(np.diag(np.cov(np.array(cluster).T)) + 1e-6)\n",
        "\n",
        "\n",
        "def getInverseCovarianceMatrix(train_data, labels, title=\"\"):\n",
        "  inverse_covariance_matrix = normalize(list(map(lambda x: calcInverseCovariance(list(map(lambda y: y[0], filter(lambda z: z[1] == x, zip(train_data, labels))))).ravel(), np.arange(np.max(labels) + 1))), axis=1)\n",
        "  print(title + \" inverse covariance matrix shape: \" + str(np.shape(inverse_covariance_matrix)))\n",
        "  return inverse_covariance_matrix\n",
        "\n",
        "\n",
        "def getGMMGamma(test_data, labels, cluster_centers, inverse_covariance_matrix, title=\"\"):\n",
        "  weights = list(map(lambda x: np.sum(labels == x)/np.size(labels), np.arange(np.max(labels) + 1)))\n",
        "  gmm = GaussianMixture(n_components=np.max(labels) + 1, weights_init=weights, means_init=cluster_centers, precisions_init=inverse_covariance_matrix, covariance_type=\"diag\")\n",
        "  gmm.fit(test_data)\n",
        "  gamma = gmm.predict_proba(test_data)\n",
        "  print(title + \" gamma vectors shape: \" + str(np.shape(gamma)))\n",
        "  return gamma, weights\n",
        "  \n",
        "\n",
        "def calcFisherStatistics(data, weight, gamma, cluster_center, covariance):\n",
        "  v = (1/math.sqrt(weight))*gamma*(data - cluster_center)/covariance\n",
        "  u = (1/math.sqrt(2*weight))*gamma*(-1 + (data - cluster_center)/covariance)**2\n",
        "  return np.concatenate([v, u], axis=0)\n",
        "\n",
        "\n",
        "def getFisherVectors(test_data, cluster_centers, weights, inverse_covariance_matrix, gamma, title=\"\"):\n",
        "  fisher_vectors = normalize(list(map(lambda x: np.array(list(map(lambda y: calcFisherStatistics(x[0], y[2], y[3][x[1]], y[0], y[1]), zip(cluster_centers, inverse_covariance_matrix, weights, gamma.T)))).ravel(), zip(test_data, np.arange(np.size(test_data))))), axis=1)\n",
        "  print(title + \" fisher vectors shape: \" + str(np.shape(fisher_vectors)))\n",
        "  return fisher_vectors"
      ],
      "execution_count": 0,
      "outputs": []
    },
    {
      "cell_type": "code",
      "metadata": {
        "id": "wytPxEXtjfL4",
        "colab_type": "code",
        "outputId": "53df3852-76d8-4e28-d4be-dd9ad11411ff",
        "colab": {
          "base_uri": "https://localhost:8080/",
          "height": 68
        }
      },
      "source": [
        "inverse_covariance_matrix = getInverseCovarianceMatrix(X_train_N, agg_labels, \"Agglomerative\")\n",
        "gamma, weights = getGMMGamma(X_test_N, agg_labels, centroids, inverse_covariance_matrix, \"Agglomerative\")\n",
        "fisher_vectors = getFisherVectors(X_test_N, centroids, weights, inverse_covariance_matrix, gamma, \"Agglomerative\")"
      ],
      "execution_count": 0,
      "outputs": [
        {
          "output_type": "stream",
          "text": [
            "Agglomerative inverse covariance matrix shape: (32, 2576)\n",
            "Agglomerative gamma vectors shape: (200, 32)\n",
            "Agglomerative fisher vectors shape: (200, 164864)\n"
          ],
          "name": "stdout"
        }
      ]
    },
    {
      "cell_type": "code",
      "metadata": {
        "id": "ReGf9OTtmVDM",
        "colab_type": "code",
        "colab": {}
      },
      "source": [
        "manhattan_feature_fish = []\n",
        "euclidean_feature_fish = []\n",
        "chebyshev_feature_fish = []\n",
        "cosine_feature_fish = []\n",
        "correlation_feature_fish = []\n",
        "\n",
        "for xn in fisher_vectors:\n",
        "  manhattan_feature_fish.append(manhattan_(xn, fisher_vectors))\n",
        "  euclidean_feature_fish.append(euclidean_(xn, fisher_vectors))\n",
        "  chebyshev_feature_fish.append(chebyshev_(xn, fisher_vectors))\n",
        "  cosine_feature_fish.append(cosine_(xn, fisher_vectors))\n",
        "  correlation_feature_fish.append(correlation_(xn, fisher_vectors))"
      ],
      "execution_count": 0,
      "outputs": []
    },
    {
      "cell_type": "code",
      "metadata": {
        "id": "p8BhPdfEojik",
        "colab_type": "code",
        "colab": {}
      },
      "source": [
        "ordered_manhattan_feature_fish, ordered_euclidean_feature_fish, ordered_chebyshev_feature_fish, ordered_cosine_feature_fish, ordered_correlation_feature_fish = features(manhattan_feature_fish, \n",
        "                                                                                                                                                                          euclidean_feature_fish, \n",
        "                                                                                                                                                                          chebyshev_feature_fish, \n",
        "                                                                                                                                                                          cosine_feature_fish, \n",
        "                                                                                                                                                                          correlation_feature_fish)\n",
        "\n",
        "\n",
        "manhattan_f_rank1, manhattan_f_rank10 = calculateFRank(ordered_manhattan_feature_fish, y_test)\n",
        "euclidean_f_rank1, euclidean_f_rank10 = calculateFRank(ordered_euclidean_feature_fish, y_test)\n",
        "chebyshev_f_rank1, chebyshev_f_rank10 = calculateFRank(ordered_chebyshev_feature_fish, y_test)\n",
        "cosine_f_rank1, cosine_f_rank10 = calculateFRank(ordered_cosine_feature_fish, y_test)\n",
        "correlation_f_rank1, correlation_f_rank10 = calculateFRank(ordered_correlation_feature_fish, y_test)"
      ],
      "execution_count": 0,
      "outputs": []
    },
    {
      "cell_type": "code",
      "metadata": {
        "id": "r_Q3LQSNtBmn",
        "colab_type": "code",
        "colab": {}
      },
      "source": [
        "print(manhattan_f_rank1, manhattan_f_rank10)\n",
        "print(euclidean_f_rank1, euclidean_f_rank10)\n",
        "print(chebyshev_f_rank1, chebyshev_f_rank10)\n",
        "print(cosine_f_rank1, cosine_f_rank10)\n",
        "print(correlation_f_rank1, correlation_f_rank10)"
      ],
      "execution_count": 0,
      "outputs": []
    },
    {
      "cell_type": "code",
      "metadata": {
        "id": "MyRPh2GwtN5B",
        "colab_type": "code",
        "colab": {}
      },
      "source": [
        "manhattan_f_map = numericalMAP(calculateMAP(ordered_manhattan_feature_fish, y_test))\n",
        "euclidean_f_map = numericalMAP(calculateMAP(ordered_euclidean_feature_fish, y_test))\n",
        "chebyshev_f_map = numericalMAP(calculateMAP(ordered_chebyshev_feature_fish, y_test))\n",
        "cosine_f_map = numericalMAP(calculateMAP(ordered_cosine_feature_fish, y_test))\n",
        "correlation_f_map = numericalMAP(calculateMAP(ordered_correlation_feature_fish, y_test))"
      ],
      "execution_count": 0,
      "outputs": []
    },
    {
      "cell_type": "code",
      "metadata": {
        "id": "SI9R5z0ItVyS",
        "colab_type": "code",
        "colab": {}
      },
      "source": [
        "print(manhattan_f_map)\n",
        "print(euclidean_f_map)\n",
        "print(chebyshev_f_map)\n",
        "print(cosine_f_map)\n",
        "print(correlation_f_map)"
      ],
      "execution_count": 0,
      "outputs": []
    },
    {
      "cell_type": "markdown",
      "metadata": {
        "id": "SZIrtasoFL4a",
        "colab_type": "text"
      },
      "source": [
        "# Distances"
      ]
    },
    {
      "cell_type": "code",
      "metadata": {
        "id": "NpU66uCdQJ2a",
        "colab_type": "code",
        "colab": {}
      },
      "source": [
        "# Distances\n",
        "from math import sqrt \n",
        "\n",
        "def manhattan(u, X, y):\n",
        "  manhattan = []\n",
        "  for img, label in zip(X, y):\n",
        "    manhattan.append((ssd.cityblock(u, img), label))\n",
        "  return manhattan\n",
        "\n",
        "def euclidean(u, X, y):\n",
        "  euclidean = []\n",
        "  for img, label in zip(X, y):\n",
        "    euclidean.append((ssd.euclidean(u, img), label))\n",
        "  return euclidean\n",
        "\n",
        "def chebyshev(u, X, y):\n",
        "  chebyshev = []\n",
        "  for img, label in zip(X, y):\n",
        "    chebyshev.append((ssd.chebyshev(u, img), label))\n",
        "  return chebyshev\n",
        "\n",
        "def chiSq(u, X, y):\n",
        "  chi = []\n",
        "  for img, label in zip(X, y):\n",
        "    chi.append((0.5*np.sum((img-u)**2/(img+u+1e-6)), label))\n",
        "  return chi\n",
        "\n",
        "def cosine(u, X, y):\n",
        "  cosine = []\n",
        "  for img, label in zip(X, y):\n",
        "    cosine.append((ssd.cosine(u, img), label))\n",
        "  return cosine\n",
        "\n",
        "def correlation(u, X, y):\n",
        "  correlation = []\n",
        "  for img, label in zip(X, y):\n",
        "    correlation.append((ssd.correlation(u, img), label))\n",
        "  return correlation  "
      ],
      "execution_count": 0,
      "outputs": []
    },
    {
      "cell_type": "code",
      "metadata": {
        "id": "GWJdkDDf6IlB",
        "colab_type": "code",
        "colab": {}
      },
      "source": [
        "# ranks and mAP\n",
        "from collections import defaultdict\n",
        "\n",
        "def calculateRank(matrix, y):\n",
        "  rank1, rank10 = 0, 0\n",
        "  for img, label in zip(matrix, y):\n",
        "    _, predicted = img[0]\n",
        "    if (predicted+1) == y[0]:\n",
        "      rank1 += 1\n",
        "  rank1_pc = rank1/32*100\n",
        "  return rank1_pc\n",
        "\n",
        "def calculateMAP(matrix, y):\n",
        "  mAP = []\n",
        "  for img, label in zip(matrix, y):\n",
        "    rank = defaultdict(list)\n",
        "    total_correct = 0\n",
        "    for i in range(11):\n",
        "      _, predicted = img[i]\n",
        "      total_correct = total_correct + 1 if predicted == label[0] else total_correct\n",
        "      precision = total_correct/(i+1)\n",
        "      rank[i+1].append(precision)\n",
        "    new_correct = 0\n",
        "    for i in range(11):\n",
        "      _, predicted = img[i]\n",
        "      new_correct = new_correct + 1 if predicted == label[0] else new_correct\n",
        "      recall = new_correct/total_correct if total_correct != 0 else 0\n",
        "      rank[i+1].append(recall)\n",
        "    mAP.append(rank)\n",
        "  return mAP\n",
        "\n",
        "def numericalMAP(matrix):\n",
        "  AP = 0\n",
        "  for d in matrix:\n",
        "    vals = np.array(list(d.values()))\n",
        "    AP += np.trapz(vals.T[0], vals.T[1])\n",
        "  return AP/len(matrix)"
      ],
      "execution_count": 0,
      "outputs": []
    },
    {
      "cell_type": "code",
      "metadata": {
        "id": "HZqy-bcPeGbe",
        "colab_type": "code",
        "colab": {}
      },
      "source": [
        "manhattan_matrix, manhattan_matrix_N = [], []\n",
        "euclidean_matrix, euclidean_matrix_N = [], []\n",
        "chebyshev_matrix, chebyshev_matrix_N = [], []\n",
        "chi_sq_matrix, chi_sq_matrix_N = [], []\n",
        "cosine_matrix, cosine_matrix_N = [], []\n",
        "correlation_matrix, correlation_matrix_N = [], []\n",
        "\n",
        "for xn in X_train_N:\n",
        "  # manhattan distance\n",
        "  manhattan_matrix_N.append(manhattan(xn, centroids, y=opt_labels))\n",
        "  # euclidean distance\n",
        "  euclidean_matrix_N.append(euclidean(xn, centroids, y=opt_labels))\n",
        "  # chebyshev distance\n",
        "  chebyshev_matrix_N.append(chebyshev(xn, centroids, y=opt_labels))\n",
        "  # chi-square distance\n",
        "  chi_sq_matrix_N.append(chiSq(xn, centroids, y=opt_labels))\n",
        "  # cosine distance \n",
        "  cosine_matrix_N.append(cosine(xn, centroids, y=opt_labels))\n",
        "  # correlation distance\n",
        "  correlation_matrix_N.append(correlation(xn, centroids, y=opt_labels))"
      ],
      "execution_count": 0,
      "outputs": []
    },
    {
      "cell_type": "code",
      "metadata": {
        "id": "Jip3VZ2zKP25",
        "colab_type": "code",
        "colab": {}
      },
      "source": [
        "ordered_manhattan, ordered_manhattan_N = [], []\n",
        "ordered_euclidean, ordered_euclidean_N = [], []\n",
        "ordered_chebyshev, ordered_chebyshev_N = [], []\n",
        "ordered_chi, ordered_chi_N = [], []\n",
        "ordered_cosine, ordered_cosine_N = [], []\n",
        "ordered_correlation, ordered_correlation_N = [], []\n",
        "\n",
        "# normalised\n",
        "for man, euc, chb, chi, cos, cor in zip(manhattan_matrix_N, euclidean_matrix_N, chebyshev_matrix_N, chi_sq_matrix_N, cosine_matrix_N, correlation_matrix_N):\n",
        "  ordered_manhattan_N.append(sorted(man))\n",
        "  ordered_euclidean_N.append(sorted(euc))\n",
        "  ordered_chebyshev_N.append(sorted(chb))\n",
        "  ordered_chi_N.append(sorted(chi))\n",
        "  ordered_cosine_N.append(sorted(cos))\n",
        "  ordered_correlation_N.append(sorted(cor))"
      ],
      "execution_count": 0,
      "outputs": []
    },
    {
      "cell_type": "code",
      "metadata": {
        "id": "_l135wMo5OoU",
        "colab_type": "code",
        "colab": {}
      },
      "source": [
        "# manhattan_rank1, manhattan_rank10 = calculateRank(ordered_manhattan)\n",
        "manhattan_n_rank1 = calculateRank(ordered_manhattan_N, y_train)\n",
        "\n",
        "# euclidean_rank1, euclidean_rank10 = calculateRank(ordered_euclidean)\n",
        "euclidean_n_rank1 = calculateRank(ordered_euclidean_N, y_train)\n",
        "\n",
        "# chebyshev_rank1, chebyshev_rank10 = calculateRank(ordered_chebyshev)\n",
        "chebyshev_n_rank1 = calculateRank(ordered_chebyshev_N, y_train)\n",
        "\n",
        "# chi_rank1, chi_rank10 = calculateRank(ordered_chi)\n",
        "chi_n_rank1 = calculateRank(ordered_chi_N, y_train)\n",
        "\n",
        "# cosine_rank1, cosine_rank10 = calculateRank(ordered_cosine)\n",
        "cosine_n_rank1 = calculateRank(ordered_cosine_N, y_train)\n",
        "\n",
        "# correlation_rank1, correlation_rank10 = calculateRank(ordered_correlation)\n",
        "correlation_n_rank1 = calculateRank(ordered_correlation_N, y_train)"
      ],
      "execution_count": 0,
      "outputs": []
    },
    {
      "cell_type": "code",
      "metadata": {
        "id": "Tl5xHXk458uw",
        "colab_type": "code",
        "colab": {}
      },
      "source": [
        "print(\"Manhattan normalised: rank1 = {:.2f}\".format(manhattan_n_rank1))\n",
        "print('')\n",
        "print(\"Euclidean normalised: rank1 = {:.2f}\".format(euclidean_n_rank1))\n",
        "print('')\n",
        "print(\"Chebyshev normalised: rank1 = {:.2f}\".format(chebyshev_n_rank1))\n",
        "print('')\n",
        "print(\"Chi squared normalised: rank1 = {:.2f}\".format(chi_n_rank1))\n",
        "print('')\n",
        "print(\"Cosine normalised: rank1 = {:.2f}\".format(cosine_n_rank1))\n",
        "print('')\n",
        "print(\"Correlation normalised: rank1 = {:.2f}\".format(correlation_n_rank1))"
      ],
      "execution_count": 0,
      "outputs": []
    }
  ]
}